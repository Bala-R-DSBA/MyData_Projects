{
 "cells": [
  {
   "cell_type": "code",
   "execution_count": 85,
   "id": "8179a855",
   "metadata": {},
   "outputs": [],
   "source": [
    "import pandas as pd\n",
    "import numpy as np\n",
    "import seaborn as sns\n",
    "import matplotlib.pyplot as plt\n",
    "%matplotlib inline"
   ]
  },
  {
   "cell_type": "code",
   "execution_count": 86,
   "id": "23287897",
   "metadata": {},
   "outputs": [],
   "source": [
    "df = pd.read_excel('H:\\Great learning\\Capstone\\Customer Churn Data.xlsx', sheet_name=\"Data for DSBA\")\n",
    "meta_data = pd.read_excel('H:\\Great learning\\Capstone\\Customer Churn Data.xlsx')"
   ]
  },
  {
   "cell_type": "code",
   "execution_count": 87,
   "id": "07773a38",
   "metadata": {},
   "outputs": [
    {
     "data": {
      "text/html": [
       "<div>\n",
       "<style scoped>\n",
       "    .dataframe tbody tr th:only-of-type {\n",
       "        vertical-align: middle;\n",
       "    }\n",
       "\n",
       "    .dataframe tbody tr th {\n",
       "        vertical-align: top;\n",
       "    }\n",
       "\n",
       "    .dataframe thead th {\n",
       "        text-align: right;\n",
       "    }\n",
       "</style>\n",
       "<table border=\"1\" class=\"dataframe\">\n",
       "  <thead>\n",
       "    <tr style=\"text-align: right;\">\n",
       "      <th></th>\n",
       "      <th>AccountID</th>\n",
       "      <th>Churn</th>\n",
       "      <th>Tenure</th>\n",
       "      <th>City_Tier</th>\n",
       "      <th>CC_Contacted_LY</th>\n",
       "      <th>Payment</th>\n",
       "      <th>Gender</th>\n",
       "      <th>Service_Score</th>\n",
       "      <th>Account_user_count</th>\n",
       "      <th>account_segment</th>\n",
       "      <th>CC_Agent_Score</th>\n",
       "      <th>Marital_Status</th>\n",
       "      <th>rev_per_month</th>\n",
       "      <th>Complain_ly</th>\n",
       "      <th>rev_growth_yoy</th>\n",
       "      <th>coupon_used_for_payment</th>\n",
       "      <th>Day_Since_CC_connect</th>\n",
       "      <th>cashback</th>\n",
       "      <th>Login_device</th>\n",
       "    </tr>\n",
       "  </thead>\n",
       "  <tbody>\n",
       "    <tr>\n",
       "      <th>0</th>\n",
       "      <td>20000</td>\n",
       "      <td>1</td>\n",
       "      <td>4</td>\n",
       "      <td>3.0</td>\n",
       "      <td>6.0</td>\n",
       "      <td>Debit Card</td>\n",
       "      <td>Female</td>\n",
       "      <td>3.0</td>\n",
       "      <td>3</td>\n",
       "      <td>Super</td>\n",
       "      <td>2.0</td>\n",
       "      <td>Single</td>\n",
       "      <td>9</td>\n",
       "      <td>1.0</td>\n",
       "      <td>11</td>\n",
       "      <td>1</td>\n",
       "      <td>5</td>\n",
       "      <td>159.93</td>\n",
       "      <td>Mobile</td>\n",
       "    </tr>\n",
       "    <tr>\n",
       "      <th>1</th>\n",
       "      <td>20001</td>\n",
       "      <td>1</td>\n",
       "      <td>0</td>\n",
       "      <td>1.0</td>\n",
       "      <td>8.0</td>\n",
       "      <td>UPI</td>\n",
       "      <td>Male</td>\n",
       "      <td>3.0</td>\n",
       "      <td>4</td>\n",
       "      <td>Regular Plus</td>\n",
       "      <td>3.0</td>\n",
       "      <td>Single</td>\n",
       "      <td>7</td>\n",
       "      <td>1.0</td>\n",
       "      <td>15</td>\n",
       "      <td>0</td>\n",
       "      <td>0</td>\n",
       "      <td>120.9</td>\n",
       "      <td>Mobile</td>\n",
       "    </tr>\n",
       "    <tr>\n",
       "      <th>2</th>\n",
       "      <td>20002</td>\n",
       "      <td>1</td>\n",
       "      <td>0</td>\n",
       "      <td>1.0</td>\n",
       "      <td>30.0</td>\n",
       "      <td>Debit Card</td>\n",
       "      <td>Male</td>\n",
       "      <td>2.0</td>\n",
       "      <td>4</td>\n",
       "      <td>Regular Plus</td>\n",
       "      <td>3.0</td>\n",
       "      <td>Single</td>\n",
       "      <td>6</td>\n",
       "      <td>1.0</td>\n",
       "      <td>14</td>\n",
       "      <td>0</td>\n",
       "      <td>3</td>\n",
       "      <td>NaN</td>\n",
       "      <td>Mobile</td>\n",
       "    </tr>\n",
       "    <tr>\n",
       "      <th>3</th>\n",
       "      <td>20003</td>\n",
       "      <td>1</td>\n",
       "      <td>0</td>\n",
       "      <td>3.0</td>\n",
       "      <td>15.0</td>\n",
       "      <td>Debit Card</td>\n",
       "      <td>Male</td>\n",
       "      <td>2.0</td>\n",
       "      <td>4</td>\n",
       "      <td>Super</td>\n",
       "      <td>5.0</td>\n",
       "      <td>Single</td>\n",
       "      <td>8</td>\n",
       "      <td>0.0</td>\n",
       "      <td>23</td>\n",
       "      <td>0</td>\n",
       "      <td>3</td>\n",
       "      <td>134.07</td>\n",
       "      <td>Mobile</td>\n",
       "    </tr>\n",
       "    <tr>\n",
       "      <th>4</th>\n",
       "      <td>20004</td>\n",
       "      <td>1</td>\n",
       "      <td>0</td>\n",
       "      <td>1.0</td>\n",
       "      <td>12.0</td>\n",
       "      <td>Credit Card</td>\n",
       "      <td>Male</td>\n",
       "      <td>2.0</td>\n",
       "      <td>3</td>\n",
       "      <td>Regular Plus</td>\n",
       "      <td>5.0</td>\n",
       "      <td>Single</td>\n",
       "      <td>3</td>\n",
       "      <td>0.0</td>\n",
       "      <td>11</td>\n",
       "      <td>1</td>\n",
       "      <td>3</td>\n",
       "      <td>129.6</td>\n",
       "      <td>Mobile</td>\n",
       "    </tr>\n",
       "    <tr>\n",
       "      <th>5</th>\n",
       "      <td>20005</td>\n",
       "      <td>1</td>\n",
       "      <td>0</td>\n",
       "      <td>1.0</td>\n",
       "      <td>22.0</td>\n",
       "      <td>Debit Card</td>\n",
       "      <td>Female</td>\n",
       "      <td>3.0</td>\n",
       "      <td>NaN</td>\n",
       "      <td>Regular Plus</td>\n",
       "      <td>5.0</td>\n",
       "      <td>Single</td>\n",
       "      <td>2</td>\n",
       "      <td>1.0</td>\n",
       "      <td>22</td>\n",
       "      <td>4</td>\n",
       "      <td>7</td>\n",
       "      <td>139.19</td>\n",
       "      <td>Computer</td>\n",
       "    </tr>\n",
       "    <tr>\n",
       "      <th>6</th>\n",
       "      <td>20006</td>\n",
       "      <td>1</td>\n",
       "      <td>2</td>\n",
       "      <td>3.0</td>\n",
       "      <td>11.0</td>\n",
       "      <td>Cash on Delivery</td>\n",
       "      <td>Male</td>\n",
       "      <td>2.0</td>\n",
       "      <td>3</td>\n",
       "      <td>Super</td>\n",
       "      <td>2.0</td>\n",
       "      <td>Divorced</td>\n",
       "      <td>4</td>\n",
       "      <td>0.0</td>\n",
       "      <td>14</td>\n",
       "      <td>0</td>\n",
       "      <td>0</td>\n",
       "      <td>120.86</td>\n",
       "      <td>Mobile</td>\n",
       "    </tr>\n",
       "    <tr>\n",
       "      <th>7</th>\n",
       "      <td>20007</td>\n",
       "      <td>1</td>\n",
       "      <td>0</td>\n",
       "      <td>1.0</td>\n",
       "      <td>6.0</td>\n",
       "      <td>Credit Card</td>\n",
       "      <td>Male</td>\n",
       "      <td>3.0</td>\n",
       "      <td>3</td>\n",
       "      <td>Regular Plus</td>\n",
       "      <td>2.0</td>\n",
       "      <td>Divorced</td>\n",
       "      <td>3</td>\n",
       "      <td>1.0</td>\n",
       "      <td>16</td>\n",
       "      <td>2</td>\n",
       "      <td>0</td>\n",
       "      <td>122.93</td>\n",
       "      <td>Mobile</td>\n",
       "    </tr>\n",
       "    <tr>\n",
       "      <th>8</th>\n",
       "      <td>20008</td>\n",
       "      <td>1</td>\n",
       "      <td>13</td>\n",
       "      <td>3.0</td>\n",
       "      <td>9.0</td>\n",
       "      <td>E wallet</td>\n",
       "      <td>Male</td>\n",
       "      <td>2.0</td>\n",
       "      <td>4</td>\n",
       "      <td>Regular Plus</td>\n",
       "      <td>3.0</td>\n",
       "      <td>Divorced</td>\n",
       "      <td>2</td>\n",
       "      <td>1.0</td>\n",
       "      <td>14</td>\n",
       "      <td>0</td>\n",
       "      <td>2</td>\n",
       "      <td>126.83</td>\n",
       "      <td>Mobile</td>\n",
       "    </tr>\n",
       "    <tr>\n",
       "      <th>9</th>\n",
       "      <td>20009</td>\n",
       "      <td>1</td>\n",
       "      <td>0</td>\n",
       "      <td>1.0</td>\n",
       "      <td>31.0</td>\n",
       "      <td>Debit Card</td>\n",
       "      <td>Male</td>\n",
       "      <td>2.0</td>\n",
       "      <td>5</td>\n",
       "      <td>Regular Plus</td>\n",
       "      <td>3.0</td>\n",
       "      <td>Single</td>\n",
       "      <td>2</td>\n",
       "      <td>0.0</td>\n",
       "      <td>12</td>\n",
       "      <td>1</td>\n",
       "      <td>1</td>\n",
       "      <td>122.93</td>\n",
       "      <td>Mobile</td>\n",
       "    </tr>\n",
       "  </tbody>\n",
       "</table>\n",
       "</div>"
      ],
      "text/plain": [
       "   AccountID  Churn Tenure  City_Tier  CC_Contacted_LY           Payment  \\\n",
       "0      20000      1      4        3.0              6.0        Debit Card   \n",
       "1      20001      1      0        1.0              8.0               UPI   \n",
       "2      20002      1      0        1.0             30.0        Debit Card   \n",
       "3      20003      1      0        3.0             15.0        Debit Card   \n",
       "4      20004      1      0        1.0             12.0       Credit Card   \n",
       "5      20005      1      0        1.0             22.0        Debit Card   \n",
       "6      20006      1      2        3.0             11.0  Cash on Delivery   \n",
       "7      20007      1      0        1.0              6.0       Credit Card   \n",
       "8      20008      1     13        3.0              9.0          E wallet   \n",
       "9      20009      1      0        1.0             31.0        Debit Card   \n",
       "\n",
       "   Gender  Service_Score Account_user_count account_segment  CC_Agent_Score  \\\n",
       "0  Female            3.0                  3           Super             2.0   \n",
       "1    Male            3.0                  4    Regular Plus             3.0   \n",
       "2    Male            2.0                  4    Regular Plus             3.0   \n",
       "3    Male            2.0                  4           Super             5.0   \n",
       "4    Male            2.0                  3    Regular Plus             5.0   \n",
       "5  Female            3.0                NaN    Regular Plus             5.0   \n",
       "6    Male            2.0                  3           Super             2.0   \n",
       "7    Male            3.0                  3    Regular Plus             2.0   \n",
       "8    Male            2.0                  4    Regular Plus             3.0   \n",
       "9    Male            2.0                  5    Regular Plus             3.0   \n",
       "\n",
       "  Marital_Status rev_per_month  Complain_ly rev_growth_yoy  \\\n",
       "0         Single             9          1.0             11   \n",
       "1         Single             7          1.0             15   \n",
       "2         Single             6          1.0             14   \n",
       "3         Single             8          0.0             23   \n",
       "4         Single             3          0.0             11   \n",
       "5         Single             2          1.0             22   \n",
       "6       Divorced             4          0.0             14   \n",
       "7       Divorced             3          1.0             16   \n",
       "8       Divorced             2          1.0             14   \n",
       "9         Single             2          0.0             12   \n",
       "\n",
       "  coupon_used_for_payment Day_Since_CC_connect cashback Login_device  \n",
       "0                       1                    5   159.93       Mobile  \n",
       "1                       0                    0    120.9       Mobile  \n",
       "2                       0                    3      NaN       Mobile  \n",
       "3                       0                    3   134.07       Mobile  \n",
       "4                       1                    3    129.6       Mobile  \n",
       "5                       4                    7   139.19     Computer  \n",
       "6                       0                    0   120.86       Mobile  \n",
       "7                       2                    0   122.93       Mobile  \n",
       "8                       0                    2   126.83       Mobile  \n",
       "9                       1                    1   122.93       Mobile  "
      ]
     },
     "execution_count": 87,
     "metadata": {},
     "output_type": "execute_result"
    }
   ],
   "source": [
    "df.head(10)"
   ]
  },
  {
   "cell_type": "code",
   "execution_count": 88,
   "id": "d6a8c86f",
   "metadata": {},
   "outputs": [
    {
     "data": {
      "text/html": [
       "<div>\n",
       "<style scoped>\n",
       "    .dataframe tbody tr th:only-of-type {\n",
       "        vertical-align: middle;\n",
       "    }\n",
       "\n",
       "    .dataframe tbody tr th {\n",
       "        vertical-align: top;\n",
       "    }\n",
       "\n",
       "    .dataframe thead th {\n",
       "        text-align: right;\n",
       "    }\n",
       "</style>\n",
       "<table border=\"1\" class=\"dataframe\">\n",
       "  <thead>\n",
       "    <tr style=\"text-align: right;\">\n",
       "      <th></th>\n",
       "      <th>AccountID</th>\n",
       "      <th>Churn</th>\n",
       "      <th>Tenure</th>\n",
       "      <th>City_Tier</th>\n",
       "      <th>CC_Contacted_LY</th>\n",
       "      <th>Payment</th>\n",
       "      <th>Gender</th>\n",
       "      <th>Service_Score</th>\n",
       "      <th>Account_user_count</th>\n",
       "      <th>account_segment</th>\n",
       "      <th>CC_Agent_Score</th>\n",
       "      <th>Marital_Status</th>\n",
       "      <th>rev_per_month</th>\n",
       "      <th>Complain_ly</th>\n",
       "      <th>rev_growth_yoy</th>\n",
       "      <th>coupon_used_for_payment</th>\n",
       "      <th>Day_Since_CC_connect</th>\n",
       "      <th>cashback</th>\n",
       "      <th>Login_device</th>\n",
       "    </tr>\n",
       "  </thead>\n",
       "  <tbody>\n",
       "    <tr>\n",
       "      <th>11250</th>\n",
       "      <td>31250</td>\n",
       "      <td>0</td>\n",
       "      <td>3</td>\n",
       "      <td>1.0</td>\n",
       "      <td>40.0</td>\n",
       "      <td>Credit Card</td>\n",
       "      <td>Female</td>\n",
       "      <td>4.0</td>\n",
       "      <td>5</td>\n",
       "      <td>Regular Plus</td>\n",
       "      <td>5.0</td>\n",
       "      <td>Single</td>\n",
       "      <td>5</td>\n",
       "      <td>0.0</td>\n",
       "      <td>17</td>\n",
       "      <td>1</td>\n",
       "      <td>5</td>\n",
       "      <td>164.85</td>\n",
       "      <td>Mobile</td>\n",
       "    </tr>\n",
       "    <tr>\n",
       "      <th>11251</th>\n",
       "      <td>31251</td>\n",
       "      <td>1</td>\n",
       "      <td>14</td>\n",
       "      <td>3.0</td>\n",
       "      <td>37.0</td>\n",
       "      <td>E wallet</td>\n",
       "      <td>Male</td>\n",
       "      <td>3.0</td>\n",
       "      <td>5</td>\n",
       "      <td>HNI</td>\n",
       "      <td>5.0</td>\n",
       "      <td>Married</td>\n",
       "      <td>9</td>\n",
       "      <td>1.0</td>\n",
       "      <td>14</td>\n",
       "      <td>3</td>\n",
       "      <td>NaN</td>\n",
       "      <td>240.54</td>\n",
       "      <td>Mobile</td>\n",
       "    </tr>\n",
       "    <tr>\n",
       "      <th>11252</th>\n",
       "      <td>31252</td>\n",
       "      <td>0</td>\n",
       "      <td>13</td>\n",
       "      <td>3.0</td>\n",
       "      <td>33.0</td>\n",
       "      <td>E wallet</td>\n",
       "      <td>Female</td>\n",
       "      <td>3.0</td>\n",
       "      <td>NaN</td>\n",
       "      <td>Super Plus</td>\n",
       "      <td>1.0</td>\n",
       "      <td>Married</td>\n",
       "      <td>4</td>\n",
       "      <td>0.0</td>\n",
       "      <td>12</td>\n",
       "      <td>4</td>\n",
       "      <td>7</td>\n",
       "      <td>252.31</td>\n",
       "      <td>Mobile</td>\n",
       "    </tr>\n",
       "    <tr>\n",
       "      <th>11253</th>\n",
       "      <td>31253</td>\n",
       "      <td>0</td>\n",
       "      <td>5</td>\n",
       "      <td>1.0</td>\n",
       "      <td>17.0</td>\n",
       "      <td>Credit Card</td>\n",
       "      <td>Male</td>\n",
       "      <td>4.0</td>\n",
       "      <td>4</td>\n",
       "      <td>Super</td>\n",
       "      <td>5.0</td>\n",
       "      <td>Single</td>\n",
       "      <td>3</td>\n",
       "      <td>0.0</td>\n",
       "      <td>20</td>\n",
       "      <td>2</td>\n",
       "      <td>8</td>\n",
       "      <td>227.36</td>\n",
       "      <td>Computer</td>\n",
       "    </tr>\n",
       "    <tr>\n",
       "      <th>11254</th>\n",
       "      <td>31254</td>\n",
       "      <td>0</td>\n",
       "      <td>1</td>\n",
       "      <td>3.0</td>\n",
       "      <td>19.0</td>\n",
       "      <td>UPI</td>\n",
       "      <td>Female</td>\n",
       "      <td>2.0</td>\n",
       "      <td>5</td>\n",
       "      <td>Regular Plus</td>\n",
       "      <td>3.0</td>\n",
       "      <td>Single</td>\n",
       "      <td>4</td>\n",
       "      <td>0.0</td>\n",
       "      <td>19</td>\n",
       "      <td>2</td>\n",
       "      <td>1</td>\n",
       "      <td>157.66</td>\n",
       "      <td>Mobile</td>\n",
       "    </tr>\n",
       "    <tr>\n",
       "      <th>11255</th>\n",
       "      <td>31255</td>\n",
       "      <td>0</td>\n",
       "      <td>10</td>\n",
       "      <td>1.0</td>\n",
       "      <td>34.0</td>\n",
       "      <td>Credit Card</td>\n",
       "      <td>Male</td>\n",
       "      <td>3.0</td>\n",
       "      <td>2</td>\n",
       "      <td>Super</td>\n",
       "      <td>1.0</td>\n",
       "      <td>Married</td>\n",
       "      <td>9</td>\n",
       "      <td>0.0</td>\n",
       "      <td>19</td>\n",
       "      <td>1</td>\n",
       "      <td>4</td>\n",
       "      <td>153.71</td>\n",
       "      <td>Computer</td>\n",
       "    </tr>\n",
       "    <tr>\n",
       "      <th>11256</th>\n",
       "      <td>31256</td>\n",
       "      <td>0</td>\n",
       "      <td>13</td>\n",
       "      <td>1.0</td>\n",
       "      <td>19.0</td>\n",
       "      <td>Credit Card</td>\n",
       "      <td>Male</td>\n",
       "      <td>3.0</td>\n",
       "      <td>5</td>\n",
       "      <td>HNI</td>\n",
       "      <td>5.0</td>\n",
       "      <td>Married</td>\n",
       "      <td>7</td>\n",
       "      <td>0.0</td>\n",
       "      <td>16</td>\n",
       "      <td>1</td>\n",
       "      <td>8</td>\n",
       "      <td>226.91</td>\n",
       "      <td>Mobile</td>\n",
       "    </tr>\n",
       "    <tr>\n",
       "      <th>11257</th>\n",
       "      <td>31257</td>\n",
       "      <td>0</td>\n",
       "      <td>1</td>\n",
       "      <td>1.0</td>\n",
       "      <td>14.0</td>\n",
       "      <td>Debit Card</td>\n",
       "      <td>Male</td>\n",
       "      <td>3.0</td>\n",
       "      <td>2</td>\n",
       "      <td>Super</td>\n",
       "      <td>4.0</td>\n",
       "      <td>Married</td>\n",
       "      <td>7</td>\n",
       "      <td>1.0</td>\n",
       "      <td>22</td>\n",
       "      <td>1</td>\n",
       "      <td>4</td>\n",
       "      <td>191.42</td>\n",
       "      <td>Mobile</td>\n",
       "    </tr>\n",
       "    <tr>\n",
       "      <th>11258</th>\n",
       "      <td>31258</td>\n",
       "      <td>0</td>\n",
       "      <td>23</td>\n",
       "      <td>3.0</td>\n",
       "      <td>11.0</td>\n",
       "      <td>Credit Card</td>\n",
       "      <td>Male</td>\n",
       "      <td>4.0</td>\n",
       "      <td>5</td>\n",
       "      <td>Super</td>\n",
       "      <td>4.0</td>\n",
       "      <td>Married</td>\n",
       "      <td>7</td>\n",
       "      <td>0.0</td>\n",
       "      <td>16</td>\n",
       "      <td>2</td>\n",
       "      <td>9</td>\n",
       "      <td>179.9</td>\n",
       "      <td>Computer</td>\n",
       "    </tr>\n",
       "    <tr>\n",
       "      <th>11259</th>\n",
       "      <td>31259</td>\n",
       "      <td>0</td>\n",
       "      <td>8</td>\n",
       "      <td>1.0</td>\n",
       "      <td>22.0</td>\n",
       "      <td>Credit Card</td>\n",
       "      <td>Male</td>\n",
       "      <td>3.0</td>\n",
       "      <td>2</td>\n",
       "      <td>Super</td>\n",
       "      <td>3.0</td>\n",
       "      <td>Married</td>\n",
       "      <td>5</td>\n",
       "      <td>0.0</td>\n",
       "      <td>13</td>\n",
       "      <td>2</td>\n",
       "      <td>3</td>\n",
       "      <td>175.04</td>\n",
       "      <td>Mobile</td>\n",
       "    </tr>\n",
       "  </tbody>\n",
       "</table>\n",
       "</div>"
      ],
      "text/plain": [
       "       AccountID  Churn Tenure  City_Tier  CC_Contacted_LY      Payment  \\\n",
       "11250      31250      0      3        1.0             40.0  Credit Card   \n",
       "11251      31251      1     14        3.0             37.0     E wallet   \n",
       "11252      31252      0     13        3.0             33.0     E wallet   \n",
       "11253      31253      0      5        1.0             17.0  Credit Card   \n",
       "11254      31254      0      1        3.0             19.0          UPI   \n",
       "11255      31255      0     10        1.0             34.0  Credit Card   \n",
       "11256      31256      0     13        1.0             19.0  Credit Card   \n",
       "11257      31257      0      1        1.0             14.0   Debit Card   \n",
       "11258      31258      0     23        3.0             11.0  Credit Card   \n",
       "11259      31259      0      8        1.0             22.0  Credit Card   \n",
       "\n",
       "       Gender  Service_Score Account_user_count account_segment  \\\n",
       "11250  Female            4.0                  5    Regular Plus   \n",
       "11251    Male            3.0                  5             HNI   \n",
       "11252  Female            3.0                NaN      Super Plus   \n",
       "11253    Male            4.0                  4           Super   \n",
       "11254  Female            2.0                  5    Regular Plus   \n",
       "11255    Male            3.0                  2           Super   \n",
       "11256    Male            3.0                  5             HNI   \n",
       "11257    Male            3.0                  2           Super   \n",
       "11258    Male            4.0                  5           Super   \n",
       "11259    Male            3.0                  2           Super   \n",
       "\n",
       "       CC_Agent_Score Marital_Status rev_per_month  Complain_ly  \\\n",
       "11250             5.0         Single             5          0.0   \n",
       "11251             5.0        Married             9          1.0   \n",
       "11252             1.0        Married             4          0.0   \n",
       "11253             5.0         Single             3          0.0   \n",
       "11254             3.0         Single             4          0.0   \n",
       "11255             1.0        Married             9          0.0   \n",
       "11256             5.0        Married             7          0.0   \n",
       "11257             4.0        Married             7          1.0   \n",
       "11258             4.0        Married             7          0.0   \n",
       "11259             3.0        Married             5          0.0   \n",
       "\n",
       "      rev_growth_yoy coupon_used_for_payment Day_Since_CC_connect cashback  \\\n",
       "11250             17                       1                    5   164.85   \n",
       "11251             14                       3                  NaN   240.54   \n",
       "11252             12                       4                    7   252.31   \n",
       "11253             20                       2                    8   227.36   \n",
       "11254             19                       2                    1   157.66   \n",
       "11255             19                       1                    4   153.71   \n",
       "11256             16                       1                    8   226.91   \n",
       "11257             22                       1                    4   191.42   \n",
       "11258             16                       2                    9    179.9   \n",
       "11259             13                       2                    3   175.04   \n",
       "\n",
       "      Login_device  \n",
       "11250       Mobile  \n",
       "11251       Mobile  \n",
       "11252       Mobile  \n",
       "11253     Computer  \n",
       "11254       Mobile  \n",
       "11255     Computer  \n",
       "11256       Mobile  \n",
       "11257       Mobile  \n",
       "11258     Computer  \n",
       "11259       Mobile  "
      ]
     },
     "execution_count": 88,
     "metadata": {},
     "output_type": "execute_result"
    }
   ],
   "source": [
    "df.tail(10)"
   ]
  },
  {
   "cell_type": "code",
   "execution_count": 3,
   "id": "de97e998",
   "metadata": {},
   "outputs": [
    {
     "data": {
      "text/html": [
       "<div>\n",
       "<style scoped>\n",
       "    .dataframe tbody tr th:only-of-type {\n",
       "        vertical-align: middle;\n",
       "    }\n",
       "\n",
       "    .dataframe tbody tr th {\n",
       "        vertical-align: top;\n",
       "    }\n",
       "\n",
       "    .dataframe thead th {\n",
       "        text-align: right;\n",
       "    }\n",
       "</style>\n",
       "<table border=\"1\" class=\"dataframe\">\n",
       "  <thead>\n",
       "    <tr style=\"text-align: right;\">\n",
       "      <th></th>\n",
       "      <th>Churn</th>\n",
       "      <th>City_Tier</th>\n",
       "      <th>CC_Contacted_LY</th>\n",
       "      <th>Service_Score</th>\n",
       "      <th>CC_Agent_Score</th>\n",
       "      <th>Complain_ly</th>\n",
       "    </tr>\n",
       "  </thead>\n",
       "  <tbody>\n",
       "    <tr>\n",
       "      <th>count</th>\n",
       "      <td>11260.000000</td>\n",
       "      <td>11148.000000</td>\n",
       "      <td>11158.000000</td>\n",
       "      <td>11162.000000</td>\n",
       "      <td>11144.000000</td>\n",
       "      <td>10903.000000</td>\n",
       "    </tr>\n",
       "    <tr>\n",
       "      <th>mean</th>\n",
       "      <td>0.168384</td>\n",
       "      <td>1.653929</td>\n",
       "      <td>17.867091</td>\n",
       "      <td>2.902526</td>\n",
       "      <td>3.066493</td>\n",
       "      <td>0.285334</td>\n",
       "    </tr>\n",
       "    <tr>\n",
       "      <th>std</th>\n",
       "      <td>0.374223</td>\n",
       "      <td>0.915015</td>\n",
       "      <td>8.853269</td>\n",
       "      <td>0.725584</td>\n",
       "      <td>1.379772</td>\n",
       "      <td>0.451594</td>\n",
       "    </tr>\n",
       "    <tr>\n",
       "      <th>min</th>\n",
       "      <td>0.000000</td>\n",
       "      <td>1.000000</td>\n",
       "      <td>4.000000</td>\n",
       "      <td>0.000000</td>\n",
       "      <td>1.000000</td>\n",
       "      <td>0.000000</td>\n",
       "    </tr>\n",
       "    <tr>\n",
       "      <th>25%</th>\n",
       "      <td>0.000000</td>\n",
       "      <td>1.000000</td>\n",
       "      <td>11.000000</td>\n",
       "      <td>2.000000</td>\n",
       "      <td>2.000000</td>\n",
       "      <td>0.000000</td>\n",
       "    </tr>\n",
       "    <tr>\n",
       "      <th>50%</th>\n",
       "      <td>0.000000</td>\n",
       "      <td>1.000000</td>\n",
       "      <td>16.000000</td>\n",
       "      <td>3.000000</td>\n",
       "      <td>3.000000</td>\n",
       "      <td>0.000000</td>\n",
       "    </tr>\n",
       "    <tr>\n",
       "      <th>75%</th>\n",
       "      <td>0.000000</td>\n",
       "      <td>3.000000</td>\n",
       "      <td>23.000000</td>\n",
       "      <td>3.000000</td>\n",
       "      <td>4.000000</td>\n",
       "      <td>1.000000</td>\n",
       "    </tr>\n",
       "    <tr>\n",
       "      <th>max</th>\n",
       "      <td>1.000000</td>\n",
       "      <td>3.000000</td>\n",
       "      <td>132.000000</td>\n",
       "      <td>5.000000</td>\n",
       "      <td>5.000000</td>\n",
       "      <td>1.000000</td>\n",
       "    </tr>\n",
       "  </tbody>\n",
       "</table>\n",
       "</div>"
      ],
      "text/plain": [
       "              Churn     City_Tier  CC_Contacted_LY  Service_Score  \\\n",
       "count  11260.000000  11148.000000     11158.000000   11162.000000   \n",
       "mean       0.168384      1.653929        17.867091       2.902526   \n",
       "std        0.374223      0.915015         8.853269       0.725584   \n",
       "min        0.000000      1.000000         4.000000       0.000000   \n",
       "25%        0.000000      1.000000        11.000000       2.000000   \n",
       "50%        0.000000      1.000000        16.000000       3.000000   \n",
       "75%        0.000000      3.000000        23.000000       3.000000   \n",
       "max        1.000000      3.000000       132.000000       5.000000   \n",
       "\n",
       "       CC_Agent_Score   Complain_ly  \n",
       "count    11144.000000  10903.000000  \n",
       "mean         3.066493      0.285334  \n",
       "std          1.379772      0.451594  \n",
       "min          1.000000      0.000000  \n",
       "25%          2.000000      0.000000  \n",
       "50%          3.000000      0.000000  \n",
       "75%          4.000000      1.000000  \n",
       "max          5.000000      1.000000  "
      ]
     },
     "execution_count": 3,
     "metadata": {},
     "output_type": "execute_result"
    }
   ],
   "source": [
    "df= df.drop('AccountID', axis = 1)\n",
    "df.describe()"
   ]
  },
  {
   "cell_type": "code",
   "execution_count": 4,
   "id": "e1d9dbad",
   "metadata": {},
   "outputs": [
    {
     "name": "stdout",
     "output_type": "stream",
     "text": [
      "<class 'pandas.core.frame.DataFrame'>\n",
      "RangeIndex: 11260 entries, 0 to 11259\n",
      "Data columns (total 18 columns):\n",
      " #   Column                   Non-Null Count  Dtype  \n",
      "---  ------                   --------------  -----  \n",
      " 0   Churn                    11260 non-null  int64  \n",
      " 1   Tenure                   11158 non-null  object \n",
      " 2   City_Tier                11148 non-null  float64\n",
      " 3   CC_Contacted_LY          11158 non-null  float64\n",
      " 4   Payment                  11151 non-null  object \n",
      " 5   Gender                   11152 non-null  object \n",
      " 6   Service_Score            11162 non-null  float64\n",
      " 7   Account_user_count       11148 non-null  object \n",
      " 8   account_segment          11163 non-null  object \n",
      " 9   CC_Agent_Score           11144 non-null  float64\n",
      " 10  Marital_Status           11048 non-null  object \n",
      " 11  rev_per_month            11158 non-null  object \n",
      " 12  Complain_ly              10903 non-null  float64\n",
      " 13  rev_growth_yoy           11260 non-null  object \n",
      " 14  coupon_used_for_payment  11260 non-null  object \n",
      " 15  Day_Since_CC_connect     10903 non-null  object \n",
      " 16  cashback                 10789 non-null  object \n",
      " 17  Login_device             11039 non-null  object \n",
      "dtypes: float64(5), int64(1), object(12)\n",
      "memory usage: 1.5+ MB\n"
     ]
    }
   ],
   "source": [
    "df.info()"
   ]
  },
  {
   "cell_type": "code",
   "execution_count": 5,
   "id": "10ce4bc1",
   "metadata": {},
   "outputs": [
    {
     "data": {
      "text/plain": [
       "(11260, 18)"
      ]
     },
     "execution_count": 5,
     "metadata": {},
     "output_type": "execute_result"
    }
   ],
   "source": [
    "df.shape"
   ]
  },
  {
   "cell_type": "code",
   "execution_count": 6,
   "id": "2fee6750",
   "metadata": {},
   "outputs": [
    {
     "name": "stdout",
     "output_type": "stream",
     "text": [
      "The number of duplicate rows = 259\n",
      "The number of duplicate rows after treatment = 0\n"
     ]
    }
   ],
   "source": [
    "dups = df.duplicated()\n",
    "print('The number of duplicate rows = %d' % (dups.sum()))\n",
    "\n",
    "df.drop_duplicates(inplace=True)\n",
    "\n",
    "dups = df.duplicated()\n",
    "print('The number of duplicate rows after treatment = %d' % (dups.sum()))"
   ]
  },
  {
   "cell_type": "code",
   "execution_count": 7,
   "id": "2afd9d1c",
   "metadata": {},
   "outputs": [
    {
     "name": "stdout",
     "output_type": "stream",
     "text": [
      "TENURE :  38\n",
      "61       2\n",
      "50       2\n",
      "51       2\n",
      "60       2\n",
      "31      95\n",
      "29     112\n",
      "25     112\n",
      "#      116\n",
      "26     121\n",
      "27     130\n",
      "99     131\n",
      "28     133\n",
      "30     136\n",
      "24     144\n",
      "22     148\n",
      "21     164\n",
      "23     166\n",
      "20     211\n",
      "17     212\n",
      "18     247\n",
      "19     267\n",
      "16     283\n",
      "15     303\n",
      "14     338\n",
      "2      345\n",
      "13     349\n",
      "12     349\n",
      "6      358\n",
      "11     376\n",
      "4      393\n",
      "5      394\n",
      "3      399\n",
      "10     412\n",
      "7      432\n",
      "9      485\n",
      "8      510\n",
      "0     1198\n",
      "1     1322\n",
      "Name: Tenure, dtype: int64\n",
      "\n",
      "\n",
      "PAYMENT :  5\n",
      "UPI                  795\n",
      "Cash on Delivery     977\n",
      "E wallet            1195\n",
      "Credit Card         3441\n",
      "Debit Card          4484\n",
      "Name: Payment, dtype: int64\n",
      "\n",
      "\n",
      "GENDER :  4\n",
      "F          270\n",
      "M          376\n",
      "Female    4075\n",
      "Male      6172\n",
      "Name: Gender, dtype: int64\n",
      "\n",
      "\n",
      "ACCOUNT_USER_COUNT :  7\n",
      "6     305\n",
      "@     332\n",
      "1     435\n",
      "2     517\n",
      "5    1665\n",
      "3    3181\n",
      "4    4454\n",
      "Name: Account_user_count, dtype: int64\n",
      "\n",
      "\n",
      "ACCOUNT_SEGMENT :  7\n",
      "Super +           47\n",
      "Regular +        262\n",
      "Regular          511\n",
      "Super Plus       756\n",
      "HNI             1615\n",
      "Regular Plus    3752\n",
      "Super           3961\n",
      "Name: account_segment, dtype: int64\n",
      "\n",
      "\n",
      "MARITAL_STATUS :  3\n",
      "Divorced    1668\n",
      "Single      3412\n",
      "Married     5710\n",
      "Name: Marital_Status, dtype: int64\n",
      "\n",
      "\n",
      "REV_PER_MONTH :  59\n",
      "103       1\n",
      "20        1\n",
      "23        1\n",
      "122       1\n",
      "21        1\n",
      "100       1\n",
      "25        1\n",
      "135       1\n",
      "111       1\n",
      "109       1\n",
      "104       1\n",
      "120       2\n",
      "19        2\n",
      "139       2\n",
      "114       2\n",
      "131       2\n",
      "22        2\n",
      "121       2\n",
      "105       2\n",
      "134       2\n",
      "125       2\n",
      "113       3\n",
      "130       3\n",
      "126       3\n",
      "116       3\n",
      "127       3\n",
      "108       3\n",
      "119       3\n",
      "137       3\n",
      "110       3\n",
      "138       3\n",
      "117       3\n",
      "115       3\n",
      "101       3\n",
      "129       4\n",
      "133       4\n",
      "118       4\n",
      "140       4\n",
      "136       4\n",
      "107       5\n",
      "124       5\n",
      "123       5\n",
      "102       8\n",
      "15       24\n",
      "14       48\n",
      "13       93\n",
      "12      166\n",
      "11      270\n",
      "1       389\n",
      "10      400\n",
      "9       552\n",
      "8       627\n",
      "+       689\n",
      "7       745\n",
      "6      1071\n",
      "4      1191\n",
      "5      1307\n",
      "2      1524\n",
      "3      1690\n",
      "Name: rev_per_month, dtype: int64\n",
      "\n",
      "\n",
      "REV_GROWTH_YOY :  20\n",
      "4        3\n",
      "$        3\n",
      "28      14\n",
      "27      35\n",
      "26      96\n",
      "25     186\n",
      "24     225\n",
      "23     340\n",
      "22     394\n",
      "21     423\n",
      "11     501\n",
      "20     549\n",
      "19     604\n",
      "17     689\n",
      "18     696\n",
      "16     933\n",
      "12    1172\n",
      "15    1250\n",
      "13    1402\n",
      "14    1486\n",
      "Name: rev_growth_yoy, dtype: int64\n",
      "\n",
      "\n",
      "COUPON_USED_FOR_PAYMENT :  20\n",
      "*        1\n",
      "#        1\n",
      "$        1\n",
      "16       4\n",
      "15       4\n",
      "14      11\n",
      "13      21\n",
      "12      26\n",
      "11      30\n",
      "9       34\n",
      "10      34\n",
      "8       88\n",
      "7      183\n",
      "6      232\n",
      "5      280\n",
      "4      419\n",
      "3      691\n",
      "0     2090\n",
      "2     2593\n",
      "1     4258\n",
      "Name: coupon_used_for_payment, dtype: int64\n",
      "\n",
      "\n",
      "DAY_SINCE_CC_CONNECT :  24\n",
      "46       1\n",
      "$        1\n",
      "47       2\n",
      "31       2\n",
      "30       2\n",
      "16      25\n",
      "18      26\n",
      "17      34\n",
      "15      36\n",
      "14      73\n",
      "13     113\n",
      "12     145\n",
      "11     178\n",
      "6      225\n",
      "10     332\n",
      "5      464\n",
      "9      606\n",
      "4      868\n",
      "7      896\n",
      "0      927\n",
      "8     1150\n",
      "1     1219\n",
      "2     1537\n",
      "3     1782\n",
      "Name: Day_Since_CC_connect, dtype: int64\n",
      "\n",
      "\n",
      "CASHBACK :  5693\n",
      "191.42     1\n",
      "178.74     1\n",
      "323.65     1\n",
      "323.92     1\n",
      "164.40     1\n",
      "          ..\n",
      "154.73     8\n",
      "154.10     8\n",
      "130.72     8\n",
      "149.36     9\n",
      "155.62    10\n",
      "Name: cashback, Length: 5693, dtype: int64\n",
      "\n",
      "\n",
      "LOGIN_DEVICE :  3\n",
      "&&&&         539\n",
      "Computer    2933\n",
      "Mobile      7308\n",
      "Name: Login_device, dtype: int64\n",
      "\n",
      "\n"
     ]
    }
   ],
   "source": [
    "for column in df.columns:\n",
    "    if df[column].dtype == 'object':\n",
    "        print(column.upper(),': ',df[column].nunique())\n",
    "        print(df[column].value_counts().sort_values())\n",
    "        print('\\n')"
   ]
  },
  {
   "cell_type": "code",
   "execution_count": 8,
   "id": "80709972",
   "metadata": {},
   "outputs": [
    {
     "name": "stdout",
     "output_type": "stream",
     "text": [
      "CITY_TIER :  3\n",
      "2.0     456\n",
      "3.0    3336\n",
      "1.0    7097\n",
      "Name: City_Tier, dtype: int64\n",
      "\n",
      "\n",
      "CC_CONTACTED_LY :  44\n",
      "129.0      1\n",
      "132.0      1\n",
      "126.0      1\n",
      "127.0      1\n",
      "4.0        1\n",
      "43.0       8\n",
      "5.0        8\n",
      "41.0      29\n",
      "42.0      30\n",
      "40.0      46\n",
      "39.0      55\n",
      "38.0      73\n",
      "37.0      96\n",
      "36.0     145\n",
      "33.0     151\n",
      "31.0     160\n",
      "35.0     161\n",
      "26.0     164\n",
      "27.0     168\n",
      "30.0     170\n",
      "28.0     172\n",
      "34.0     174\n",
      "29.0     177\n",
      "32.0     188\n",
      "25.0     193\n",
      "24.0     208\n",
      "23.0     235\n",
      "22.0     277\n",
      "6.0      305\n",
      "21.0     306\n",
      "20.0     315\n",
      "19.0     360\n",
      "18.0     372\n",
      "7.0      388\n",
      "10.0     475\n",
      "11.0     505\n",
      "17.0     513\n",
      "8.0      524\n",
      "12.0     560\n",
      "15.0     607\n",
      "9.0      625\n",
      "13.0     644\n",
      "16.0     644\n",
      "14.0     663\n",
      "Name: CC_Contacted_LY, dtype: int64\n",
      "\n",
      "\n",
      "SERVICE_SCORE :  6\n",
      "5.0       5\n",
      "0.0       8\n",
      "1.0      77\n",
      "4.0    2270\n",
      "2.0    3183\n",
      "3.0    5360\n",
      "Name: Service_Score, dtype: int64\n",
      "\n",
      "\n",
      "CC_AGENT_SCORE :  5\n",
      "2.0    1164\n",
      "4.0    2064\n",
      "5.0    2126\n",
      "1.0    2261\n",
      "3.0    3270\n",
      "Name: CC_Agent_Score, dtype: int64\n",
      "\n",
      "\n",
      "COMPLAIN_LY :  2\n",
      "1.0    3042\n",
      "0.0    7602\n",
      "Name: Complain_ly, dtype: int64\n",
      "\n",
      "\n"
     ]
    }
   ],
   "source": [
    "for column in df.columns:\n",
    "    if df[column].dtype == 'float64':\n",
    "        print(column.upper(),': ',df[column].nunique())\n",
    "        print(df[column].value_counts().sort_values())\n",
    "        print('\\n')"
   ]
  },
  {
   "cell_type": "code",
   "execution_count": 9,
   "id": "314ae522",
   "metadata": {},
   "outputs": [
    {
     "name": "stdout",
     "output_type": "stream",
     "text": [
      "CHURN :  2\n",
      "1    1852\n",
      "0    9149\n",
      "Name: Churn, dtype: int64\n",
      "\n",
      "\n"
     ]
    }
   ],
   "source": [
    "for column in df.columns:\n",
    "    if df[column].dtype == 'int64':\n",
    "        print(column.upper(),': ',df[column].nunique())\n",
    "        print(df[column].value_counts().sort_values())\n",
    "        print('\\n')"
   ]
  },
  {
   "cell_type": "markdown",
   "id": "f257c950",
   "metadata": {},
   "source": [
    "# By observing the dataset it is found that certain columns are having special characters in them and need to be imputed with proper data. The data type of the columns also need to be changed with respect to the nature of the data present in it."
   ]
  },
  {
   "cell_type": "code",
   "execution_count": 10,
   "id": "852eede9",
   "metadata": {},
   "outputs": [],
   "source": [
    "# Data imputation of bad data with null values\n",
    "df['Tenure'] = df['Tenure'].replace('#',np.NaN)\n",
    "df['Account_user_count'] = df['Account_user_count'].replace('@',np.NaN)\n",
    "df['rev_per_month'] = df['rev_per_month'].replace('+',np.NaN)\n",
    "df['rev_growth_yoy'] = df['rev_growth_yoy'].replace('$',np.NaN)\n",
    "df['coupon_used_for_payment'] = df['coupon_used_for_payment'].replace('#',np.NaN)\n",
    "df['coupon_used_for_payment'] = df['coupon_used_for_payment'].replace('$',np.NaN)\n",
    "df['coupon_used_for_payment'] = df['coupon_used_for_payment'].replace('*',np.NaN)\n",
    "df['Day_Since_CC_connect'] = df['Day_Since_CC_connect'].replace('$',np.NaN)\n",
    "df['cashback'] = df['cashback'].replace('$',np.NaN)\n",
    "df['Login_device'] = df['Login_device'].replace('&&&&',np.NaN)"
   ]
  },
  {
   "cell_type": "code",
   "execution_count": 11,
   "id": "0bfec38e",
   "metadata": {},
   "outputs": [],
   "source": [
    "# Data imputation for better categorization \n",
    "df['account_segment'] = df['account_segment'].replace(to_replace='Super +',value='Super Plus')\n",
    "df['account_segment'] = df['account_segment'].replace(to_replace='Regular +',value='Regular Plus')\n",
    "df['Gender'] = df['Gender'].replace(to_replace='M',value='Male')\n",
    "df['Gender'] = df['Gender'].replace(to_replace='F',value='Female')"
   ]
  },
  {
   "cell_type": "code",
   "execution_count": 12,
   "id": "9cf3a70a",
   "metadata": {},
   "outputs": [
    {
     "name": "stdout",
     "output_type": "stream",
     "text": [
      "TENURE :  37\n",
      "61.0       2\n",
      "50.0       2\n",
      "51.0       2\n",
      "60.0       2\n",
      "31.0      95\n",
      "29.0     112\n",
      "25.0     112\n",
      "26.0     121\n",
      "27.0     130\n",
      "99.0     131\n",
      "28.0     133\n",
      "30.0     136\n",
      "24.0     144\n",
      "22.0     148\n",
      "21.0     164\n",
      "23.0     166\n",
      "20.0     211\n",
      "17.0     212\n",
      "18.0     247\n",
      "19.0     267\n",
      "16.0     283\n",
      "15.0     303\n",
      "14.0     338\n",
      "2.0      345\n",
      "13.0     349\n",
      "12.0     349\n",
      "6.0      358\n",
      "11.0     376\n",
      "4.0      393\n",
      "5.0      394\n",
      "3.0      399\n",
      "10.0     412\n",
      "7.0      432\n",
      "9.0      485\n",
      "8.0      510\n",
      "0.0     1198\n",
      "1.0     1322\n",
      "Name: Tenure, dtype: int64\n",
      "\n",
      "\n",
      "CITY_TIER :  3\n",
      "2.0     456\n",
      "3.0    3336\n",
      "1.0    7097\n",
      "Name: City_Tier, dtype: int64\n",
      "\n",
      "\n",
      "CC_CONTACTED_LY :  44\n",
      "129.0      1\n",
      "132.0      1\n",
      "126.0      1\n",
      "127.0      1\n",
      "4.0        1\n",
      "43.0       8\n",
      "5.0        8\n",
      "41.0      29\n",
      "42.0      30\n",
      "40.0      46\n",
      "39.0      55\n",
      "38.0      73\n",
      "37.0      96\n",
      "36.0     145\n",
      "33.0     151\n",
      "31.0     160\n",
      "35.0     161\n",
      "26.0     164\n",
      "27.0     168\n",
      "30.0     170\n",
      "28.0     172\n",
      "34.0     174\n",
      "29.0     177\n",
      "32.0     188\n",
      "25.0     193\n",
      "24.0     208\n",
      "23.0     235\n",
      "22.0     277\n",
      "6.0      305\n",
      "21.0     306\n",
      "20.0     315\n",
      "19.0     360\n",
      "18.0     372\n",
      "7.0      388\n",
      "10.0     475\n",
      "11.0     505\n",
      "17.0     513\n",
      "8.0      524\n",
      "12.0     560\n",
      "15.0     607\n",
      "9.0      625\n",
      "13.0     644\n",
      "16.0     644\n",
      "14.0     663\n",
      "Name: CC_Contacted_LY, dtype: int64\n",
      "\n",
      "\n",
      "SERVICE_SCORE :  6\n",
      "5.0       5\n",
      "0.0       8\n",
      "1.0      77\n",
      "4.0    2270\n",
      "2.0    3183\n",
      "3.0    5360\n",
      "Name: Service_Score, dtype: int64\n",
      "\n",
      "\n",
      "ACCOUNT_USER_COUNT :  6\n",
      "6.0     305\n",
      "1.0     435\n",
      "2.0     517\n",
      "5.0    1665\n",
      "3.0    3181\n",
      "4.0    4454\n",
      "Name: Account_user_count, dtype: int64\n",
      "\n",
      "\n",
      "CC_AGENT_SCORE :  5\n",
      "2.0    1164\n",
      "4.0    2064\n",
      "5.0    2126\n",
      "1.0    2261\n",
      "3.0    3270\n",
      "Name: CC_Agent_Score, dtype: int64\n",
      "\n",
      "\n",
      "REV_PER_MONTH :  58\n",
      "103.0       1\n",
      "20.0        1\n",
      "23.0        1\n",
      "122.0       1\n",
      "104.0       1\n",
      "100.0       1\n",
      "25.0        1\n",
      "135.0       1\n",
      "111.0       1\n",
      "109.0       1\n",
      "21.0        1\n",
      "19.0        2\n",
      "139.0       2\n",
      "131.0       2\n",
      "22.0        2\n",
      "120.0       2\n",
      "121.0       2\n",
      "105.0       2\n",
      "114.0       2\n",
      "134.0       2\n",
      "125.0       2\n",
      "127.0       3\n",
      "113.0       3\n",
      "126.0       3\n",
      "130.0       3\n",
      "138.0       3\n",
      "115.0       3\n",
      "119.0       3\n",
      "137.0       3\n",
      "110.0       3\n",
      "101.0       3\n",
      "108.0       3\n",
      "117.0       3\n",
      "116.0       3\n",
      "136.0       4\n",
      "133.0       4\n",
      "129.0       4\n",
      "118.0       4\n",
      "140.0       4\n",
      "123.0       5\n",
      "107.0       5\n",
      "124.0       5\n",
      "102.0       8\n",
      "15.0       24\n",
      "14.0       48\n",
      "13.0       93\n",
      "12.0      166\n",
      "11.0      270\n",
      "1.0       389\n",
      "10.0      400\n",
      "9.0       552\n",
      "8.0       627\n",
      "7.0       745\n",
      "6.0      1071\n",
      "4.0      1191\n",
      "5.0      1307\n",
      "2.0      1524\n",
      "3.0      1690\n",
      "Name: rev_per_month, dtype: int64\n",
      "\n",
      "\n",
      "COMPLAIN_LY :  2\n",
      "1.0    3042\n",
      "0.0    7602\n",
      "Name: Complain_ly, dtype: int64\n",
      "\n",
      "\n",
      "REV_GROWTH_YOY :  19\n",
      "4.0        3\n",
      "28.0      14\n",
      "27.0      35\n",
      "26.0      96\n",
      "25.0     186\n",
      "24.0     225\n",
      "23.0     340\n",
      "22.0     394\n",
      "21.0     423\n",
      "11.0     501\n",
      "20.0     549\n",
      "19.0     604\n",
      "17.0     689\n",
      "18.0     696\n",
      "16.0     933\n",
      "12.0    1172\n",
      "15.0    1250\n",
      "13.0    1402\n",
      "14.0    1486\n",
      "Name: rev_growth_yoy, dtype: int64\n",
      "\n",
      "\n",
      "COUPON_USED_FOR_PAYMENT :  17\n",
      "16.0       4\n",
      "15.0       4\n",
      "14.0      11\n",
      "13.0      21\n",
      "12.0      26\n",
      "11.0      30\n",
      "10.0      34\n",
      "9.0       34\n",
      "8.0       88\n",
      "7.0      183\n",
      "6.0      232\n",
      "5.0      280\n",
      "4.0      419\n",
      "3.0      691\n",
      "0.0     2090\n",
      "2.0     2593\n",
      "1.0     4258\n",
      "Name: coupon_used_for_payment, dtype: int64\n",
      "\n",
      "\n",
      "DAY_SINCE_CC_CONNECT :  23\n",
      "46.0       1\n",
      "31.0       2\n",
      "30.0       2\n",
      "47.0       2\n",
      "16.0      25\n",
      "18.0      26\n",
      "17.0      34\n",
      "15.0      36\n",
      "14.0      73\n",
      "13.0     113\n",
      "12.0     145\n",
      "11.0     178\n",
      "6.0      225\n",
      "10.0     332\n",
      "5.0      464\n",
      "9.0      606\n",
      "4.0      868\n",
      "7.0      896\n",
      "0.0      927\n",
      "8.0     1150\n",
      "1.0     1219\n",
      "2.0     1537\n",
      "3.0     1782\n",
      "Name: Day_Since_CC_connect, dtype: int64\n",
      "\n",
      "\n",
      "CASHBACK :  5692\n",
      "191.42     1\n",
      "192.67     1\n",
      "268.44     1\n",
      "260.06     1\n",
      "168.08     1\n",
      "          ..\n",
      "154.73     8\n",
      "154.10     8\n",
      "130.72     8\n",
      "149.36     9\n",
      "155.62    10\n",
      "Name: cashback, Length: 5692, dtype: int64\n",
      "\n",
      "\n"
     ]
    }
   ],
   "source": [
    "for column in df.columns:\n",
    "    if df[column].dtype == 'float64':\n",
    "        print(column.upper(),': ',df[column].nunique())\n",
    "        print(df[column].value_counts().sort_values())\n",
    "        print('\\n')"
   ]
  },
  {
   "cell_type": "code",
   "execution_count": 13,
   "id": "18b7baec",
   "metadata": {},
   "outputs": [
    {
     "name": "stdout",
     "output_type": "stream",
     "text": [
      "PAYMENT :  5\n",
      "UPI                  795\n",
      "Cash on Delivery     977\n",
      "E wallet            1195\n",
      "Credit Card         3441\n",
      "Debit Card          4484\n",
      "Name: Payment, dtype: int64\n",
      "\n",
      "\n",
      "GENDER :  2\n",
      "Female    4345\n",
      "Male      6548\n",
      "Name: Gender, dtype: int64\n",
      "\n",
      "\n",
      "ACCOUNT_SEGMENT :  5\n",
      "Regular          511\n",
      "Super Plus       803\n",
      "HNI             1615\n",
      "Super           3961\n",
      "Regular Plus    4014\n",
      "Name: account_segment, dtype: int64\n",
      "\n",
      "\n",
      "MARITAL_STATUS :  3\n",
      "Divorced    1668\n",
      "Single      3412\n",
      "Married     5710\n",
      "Name: Marital_Status, dtype: int64\n",
      "\n",
      "\n",
      "LOGIN_DEVICE :  2\n",
      "Computer    2933\n",
      "Mobile      7308\n",
      "Name: Login_device, dtype: int64\n",
      "\n",
      "\n"
     ]
    }
   ],
   "source": [
    "for column in df.columns:\n",
    "    if df[column].dtype == 'object':\n",
    "        print(column.upper(),': ',df[column].nunique())\n",
    "        print(df[column].value_counts().sort_values())\n",
    "        print('\\n')"
   ]
  },
  {
   "cell_type": "markdown",
   "id": "cb4ed68a",
   "metadata": {},
   "source": [
    "# Encoding string values"
   ]
  },
  {
   "cell_type": "raw",
   "id": "b64ffd34",
   "metadata": {},
   "source": [
    "df_cat = df[['Gender','Login_device','Marital_Status','account_segment','Payment']]"
   ]
  },
  {
   "cell_type": "code",
   "execution_count": 14,
   "id": "cd653dba",
   "metadata": {},
   "outputs": [],
   "source": [
    "#changing the data type of varibales\n",
    "df[\"Churn\"] =df[\"Churn\"].astype('category')\n",
    "df[\"City_Tier\"] =df[\"City_Tier\"].astype('category')\n",
    "df[\"Service_Score\"] =df[\"Service_Score\"].astype('category')\n",
    "df[\"CC_Agent_Score\"] =df[\"CC_Agent_Score\"].astype('category')\n",
    "df[\"Complain_ly\"] =df[\"Complain_ly\"].astype('category')\n",
    "df[\"Payment\"] =df[\"Payment\"].astype('category')\n",
    "df[\"Gender\"] =df[\"Gender\"].astype('category')\n",
    "df[\"account_segment\"] =df[\"account_segment\"].astype('category')\n",
    "df[\"Marital_Status\"] =df[\"Marital_Status\"].astype('category')\n",
    "df[\"Login_device\"] =df[\"Login_device\"].astype('category')"
   ]
  },
  {
   "cell_type": "code",
   "execution_count": 15,
   "id": "bbbb08c3",
   "metadata": {},
   "outputs": [],
   "source": [
    "df_num = df.select_dtypes(['float64'])\n",
    "df_cat = df.select_dtypes(['category'])"
   ]
  },
  {
   "cell_type": "markdown",
   "id": "4a8b20ca",
   "metadata": {},
   "source": [
    "# Missing value Treatment"
   ]
  },
  {
   "cell_type": "code",
   "execution_count": 16,
   "id": "7689a7b7",
   "metadata": {},
   "outputs": [
    {
     "data": {
      "text/plain": [
       "Churn                        0\n",
       "Tenure                     218\n",
       "City_Tier                  112\n",
       "CC_Contacted_LY            102\n",
       "Payment                    109\n",
       "Gender                     108\n",
       "Service_Score               98\n",
       "Account_user_count         444\n",
       "account_segment             97\n",
       "CC_Agent_Score             116\n",
       "Marital_Status             211\n",
       "rev_per_month              791\n",
       "Complain_ly                357\n",
       "rev_growth_yoy               3\n",
       "coupon_used_for_payment      3\n",
       "Day_Since_CC_connect       358\n",
       "cashback                   473\n",
       "Login_device               760\n",
       "dtype: int64"
      ]
     },
     "execution_count": 16,
     "metadata": {},
     "output_type": "execute_result"
    }
   ],
   "source": [
    "df.isnull().sum()"
   ]
  },
  {
   "cell_type": "code",
   "execution_count": 17,
   "id": "b2eb0e14",
   "metadata": {},
   "outputs": [],
   "source": [
    "#impute the missing values, numerical values with mean and category with mode\n",
    "from sklearn.impute import SimpleImputer\n",
    "imputer = SimpleImputer(missing_values= np.nan, strategy='mean')"
   ]
  },
  {
   "cell_type": "code",
   "execution_count": 18,
   "id": "7656c835",
   "metadata": {},
   "outputs": [],
   "source": [
    "imr = imputer.fit(df_num)\n",
    "df_num = pd.DataFrame(imr.transform(df_num), columns=df_num.columns)"
   ]
  },
  {
   "cell_type": "code",
   "execution_count": 19,
   "id": "41f9bace",
   "metadata": {},
   "outputs": [
    {
     "data": {
      "text/plain": [
       "Tenure                     0\n",
       "CC_Contacted_LY            0\n",
       "Account_user_count         0\n",
       "rev_per_month              0\n",
       "rev_growth_yoy             0\n",
       "coupon_used_for_payment    0\n",
       "Day_Since_CC_connect       0\n",
       "cashback                   0\n",
       "dtype: int64"
      ]
     },
     "execution_count": 19,
     "metadata": {},
     "output_type": "execute_result"
    }
   ],
   "source": [
    "df_num.isnull().sum()"
   ]
  },
  {
   "cell_type": "code",
   "execution_count": 20,
   "id": "83bf0822",
   "metadata": {},
   "outputs": [],
   "source": [
    "for column in df_cat.columns:\n",
    "    mode = df_cat[column].mode()[0]\n",
    "    df_cat[column].fillna(mode, inplace=True)"
   ]
  },
  {
   "cell_type": "code",
   "execution_count": 21,
   "id": "29d436fa",
   "metadata": {},
   "outputs": [
    {
     "data": {
      "text/plain": [
       "Churn              0\n",
       "City_Tier          0\n",
       "Payment            0\n",
       "Gender             0\n",
       "Service_Score      0\n",
       "account_segment    0\n",
       "CC_Agent_Score     0\n",
       "Marital_Status     0\n",
       "Complain_ly        0\n",
       "Login_device       0\n",
       "dtype: int64"
      ]
     },
     "execution_count": 21,
     "metadata": {},
     "output_type": "execute_result"
    }
   ],
   "source": [
    "df_cat.isnull().sum()"
   ]
  },
  {
   "cell_type": "code",
   "execution_count": 22,
   "id": "f8935523",
   "metadata": {},
   "outputs": [
    {
     "data": {
      "text/html": [
       "<div>\n",
       "<style scoped>\n",
       "    .dataframe tbody tr th:only-of-type {\n",
       "        vertical-align: middle;\n",
       "    }\n",
       "\n",
       "    .dataframe tbody tr th {\n",
       "        vertical-align: top;\n",
       "    }\n",
       "\n",
       "    .dataframe thead th {\n",
       "        text-align: right;\n",
       "    }\n",
       "</style>\n",
       "<table border=\"1\" class=\"dataframe\">\n",
       "  <thead>\n",
       "    <tr style=\"text-align: right;\">\n",
       "      <th></th>\n",
       "      <th>Tenure</th>\n",
       "      <th>CC_Contacted_LY</th>\n",
       "      <th>Account_user_count</th>\n",
       "      <th>rev_per_month</th>\n",
       "      <th>rev_growth_yoy</th>\n",
       "      <th>coupon_used_for_payment</th>\n",
       "      <th>Day_Since_CC_connect</th>\n",
       "      <th>cashback</th>\n",
       "      <th>Churn</th>\n",
       "      <th>City_Tier</th>\n",
       "      <th>Payment</th>\n",
       "      <th>Gender</th>\n",
       "      <th>Service_Score</th>\n",
       "      <th>account_segment</th>\n",
       "      <th>CC_Agent_Score</th>\n",
       "      <th>Marital_Status</th>\n",
       "      <th>Complain_ly</th>\n",
       "      <th>Login_device</th>\n",
       "    </tr>\n",
       "  </thead>\n",
       "  <tbody>\n",
       "    <tr>\n",
       "      <th>0</th>\n",
       "      <td>4.0</td>\n",
       "      <td>6.0</td>\n",
       "      <td>3.0</td>\n",
       "      <td>9.0</td>\n",
       "      <td>11.0</td>\n",
       "      <td>1.0</td>\n",
       "      <td>5.0</td>\n",
       "      <td>159.930000</td>\n",
       "      <td>1</td>\n",
       "      <td>3.0</td>\n",
       "      <td>Debit Card</td>\n",
       "      <td>Female</td>\n",
       "      <td>3.0</td>\n",
       "      <td>Super</td>\n",
       "      <td>2.0</td>\n",
       "      <td>Single</td>\n",
       "      <td>1.0</td>\n",
       "      <td>Mobile</td>\n",
       "    </tr>\n",
       "    <tr>\n",
       "      <th>1</th>\n",
       "      <td>0.0</td>\n",
       "      <td>8.0</td>\n",
       "      <td>4.0</td>\n",
       "      <td>7.0</td>\n",
       "      <td>15.0</td>\n",
       "      <td>0.0</td>\n",
       "      <td>0.0</td>\n",
       "      <td>120.900000</td>\n",
       "      <td>1</td>\n",
       "      <td>1.0</td>\n",
       "      <td>UPI</td>\n",
       "      <td>Male</td>\n",
       "      <td>3.0</td>\n",
       "      <td>Regular Plus</td>\n",
       "      <td>3.0</td>\n",
       "      <td>Single</td>\n",
       "      <td>1.0</td>\n",
       "      <td>Mobile</td>\n",
       "    </tr>\n",
       "    <tr>\n",
       "      <th>2</th>\n",
       "      <td>0.0</td>\n",
       "      <td>30.0</td>\n",
       "      <td>4.0</td>\n",
       "      <td>6.0</td>\n",
       "      <td>14.0</td>\n",
       "      <td>0.0</td>\n",
       "      <td>3.0</td>\n",
       "      <td>196.921924</td>\n",
       "      <td>1</td>\n",
       "      <td>1.0</td>\n",
       "      <td>Debit Card</td>\n",
       "      <td>Male</td>\n",
       "      <td>2.0</td>\n",
       "      <td>Regular Plus</td>\n",
       "      <td>3.0</td>\n",
       "      <td>Single</td>\n",
       "      <td>1.0</td>\n",
       "      <td>Mobile</td>\n",
       "    </tr>\n",
       "    <tr>\n",
       "      <th>3</th>\n",
       "      <td>0.0</td>\n",
       "      <td>15.0</td>\n",
       "      <td>4.0</td>\n",
       "      <td>8.0</td>\n",
       "      <td>23.0</td>\n",
       "      <td>0.0</td>\n",
       "      <td>3.0</td>\n",
       "      <td>134.070000</td>\n",
       "      <td>1</td>\n",
       "      <td>3.0</td>\n",
       "      <td>Debit Card</td>\n",
       "      <td>Male</td>\n",
       "      <td>2.0</td>\n",
       "      <td>Super</td>\n",
       "      <td>5.0</td>\n",
       "      <td>Single</td>\n",
       "      <td>0.0</td>\n",
       "      <td>Mobile</td>\n",
       "    </tr>\n",
       "    <tr>\n",
       "      <th>4</th>\n",
       "      <td>0.0</td>\n",
       "      <td>12.0</td>\n",
       "      <td>3.0</td>\n",
       "      <td>3.0</td>\n",
       "      <td>11.0</td>\n",
       "      <td>1.0</td>\n",
       "      <td>3.0</td>\n",
       "      <td>129.600000</td>\n",
       "      <td>1</td>\n",
       "      <td>1.0</td>\n",
       "      <td>Credit Card</td>\n",
       "      <td>Male</td>\n",
       "      <td>2.0</td>\n",
       "      <td>Regular Plus</td>\n",
       "      <td>5.0</td>\n",
       "      <td>Single</td>\n",
       "      <td>0.0</td>\n",
       "      <td>Mobile</td>\n",
       "    </tr>\n",
       "  </tbody>\n",
       "</table>\n",
       "</div>"
      ],
      "text/plain": [
       "   Tenure  CC_Contacted_LY  Account_user_count  rev_per_month  rev_growth_yoy  \\\n",
       "0     4.0              6.0                 3.0            9.0            11.0   \n",
       "1     0.0              8.0                 4.0            7.0            15.0   \n",
       "2     0.0             30.0                 4.0            6.0            14.0   \n",
       "3     0.0             15.0                 4.0            8.0            23.0   \n",
       "4     0.0             12.0                 3.0            3.0            11.0   \n",
       "\n",
       "   coupon_used_for_payment  Day_Since_CC_connect    cashback Churn City_Tier  \\\n",
       "0                      1.0                   5.0  159.930000     1       3.0   \n",
       "1                      0.0                   0.0  120.900000     1       1.0   \n",
       "2                      0.0                   3.0  196.921924     1       1.0   \n",
       "3                      0.0                   3.0  134.070000     1       3.0   \n",
       "4                      1.0                   3.0  129.600000     1       1.0   \n",
       "\n",
       "       Payment  Gender Service_Score account_segment CC_Agent_Score  \\\n",
       "0   Debit Card  Female           3.0           Super            2.0   \n",
       "1          UPI    Male           3.0    Regular Plus            3.0   \n",
       "2   Debit Card    Male           2.0    Regular Plus            3.0   \n",
       "3   Debit Card    Male           2.0           Super            5.0   \n",
       "4  Credit Card    Male           2.0    Regular Plus            5.0   \n",
       "\n",
       "  Marital_Status Complain_ly Login_device  \n",
       "0         Single         1.0       Mobile  \n",
       "1         Single         1.0       Mobile  \n",
       "2         Single         1.0       Mobile  \n",
       "3         Single         0.0       Mobile  \n",
       "4         Single         0.0       Mobile  "
      ]
     },
     "execution_count": 22,
     "metadata": {},
     "output_type": "execute_result"
    }
   ],
   "source": [
    "df = pd.concat([df_num, df_cat], axis=1, join='inner')\n",
    "df.head()"
   ]
  },
  {
   "cell_type": "raw",
   "id": "ebb40ffc",
   "metadata": {},
   "source": [
    "df['Gender'] = df['Gender'].replace(to_replace='Female',value='0')\n",
    "df['Gender'] = df['Gender'].replace(to_replace='Male',value='1')\n",
    "\n",
    "df['Login_device'] = df['Login_device'].replace(to_replace='Computer',value='0')\n",
    "df['Login_device'] = df['Login_device'].replace(to_replace='Mobile',value='1')\n",
    "\n",
    "df['Marital_Status'] = df['Marital_Status'].replace(to_replace='Divorced',value='0')\n",
    "df['Marital_Status'] = df['Marital_Status'].replace(to_replace='Single',value='1')\n",
    "df['Marital_Status'] = df['Marital_Status'].replace(to_replace='Married',value='2')\n",
    "\n",
    "df['account_segment'] = df['account_segment'].replace(to_replace='Regular',value='0')\n",
    "df['account_segment'] = df['account_segment'].replace(to_replace='Regular Plus',value='1')\n",
    "df['account_segment'] = df['account_segment'].replace(to_replace='Super',value='2')\n",
    "df['account_segment'] = df['account_segment'].replace(to_replace='Super Plus',value='3')\n",
    "df['account_segment'] = df['account_segment'].replace(to_replace='HNI',value='4')\n",
    "\n",
    "df['Payment'] = df['Payment'].replace(to_replace='UPI',value='0')\n",
    "df['Payment'] = df['Payment'].replace(to_replace='Cash on Delivery',value='1')\n",
    "df['Payment'] = df['Payment'].replace(to_replace='E wallet',value='2')\n",
    "df['Payment'] = df['Payment'].replace(to_replace='Credit Card',value='3')\n",
    "df['Payment'] = df['Payment'].replace(to_replace='Debit Card',value='4')"
   ]
  },
  {
   "cell_type": "code",
   "execution_count": 23,
   "id": "401f9cef",
   "metadata": {},
   "outputs": [
    {
     "data": {
      "text/html": [
       "<div>\n",
       "<style scoped>\n",
       "    .dataframe tbody tr th:only-of-type {\n",
       "        vertical-align: middle;\n",
       "    }\n",
       "\n",
       "    .dataframe tbody tr th {\n",
       "        vertical-align: top;\n",
       "    }\n",
       "\n",
       "    .dataframe thead th {\n",
       "        text-align: right;\n",
       "    }\n",
       "</style>\n",
       "<table border=\"1\" class=\"dataframe\">\n",
       "  <thead>\n",
       "    <tr style=\"text-align: right;\">\n",
       "      <th></th>\n",
       "      <th>Tenure</th>\n",
       "      <th>CC_Contacted_LY</th>\n",
       "      <th>Account_user_count</th>\n",
       "      <th>rev_per_month</th>\n",
       "      <th>rev_growth_yoy</th>\n",
       "      <th>coupon_used_for_payment</th>\n",
       "      <th>Day_Since_CC_connect</th>\n",
       "      <th>cashback</th>\n",
       "      <th>Churn</th>\n",
       "      <th>City_Tier</th>\n",
       "      <th>Payment</th>\n",
       "      <th>Gender</th>\n",
       "      <th>Service_Score</th>\n",
       "      <th>account_segment</th>\n",
       "      <th>CC_Agent_Score</th>\n",
       "      <th>Marital_Status</th>\n",
       "      <th>Complain_ly</th>\n",
       "      <th>Login_device</th>\n",
       "    </tr>\n",
       "  </thead>\n",
       "  <tbody>\n",
       "    <tr>\n",
       "      <th>0</th>\n",
       "      <td>4.0</td>\n",
       "      <td>6.0</td>\n",
       "      <td>3.0</td>\n",
       "      <td>9.0</td>\n",
       "      <td>11.0</td>\n",
       "      <td>1.0</td>\n",
       "      <td>5.0</td>\n",
       "      <td>159.930000</td>\n",
       "      <td>1</td>\n",
       "      <td>3.0</td>\n",
       "      <td>Debit Card</td>\n",
       "      <td>Female</td>\n",
       "      <td>3.0</td>\n",
       "      <td>Super</td>\n",
       "      <td>2.0</td>\n",
       "      <td>Single</td>\n",
       "      <td>1.0</td>\n",
       "      <td>Mobile</td>\n",
       "    </tr>\n",
       "    <tr>\n",
       "      <th>1</th>\n",
       "      <td>0.0</td>\n",
       "      <td>8.0</td>\n",
       "      <td>4.0</td>\n",
       "      <td>7.0</td>\n",
       "      <td>15.0</td>\n",
       "      <td>0.0</td>\n",
       "      <td>0.0</td>\n",
       "      <td>120.900000</td>\n",
       "      <td>1</td>\n",
       "      <td>1.0</td>\n",
       "      <td>UPI</td>\n",
       "      <td>Male</td>\n",
       "      <td>3.0</td>\n",
       "      <td>Regular Plus</td>\n",
       "      <td>3.0</td>\n",
       "      <td>Single</td>\n",
       "      <td>1.0</td>\n",
       "      <td>Mobile</td>\n",
       "    </tr>\n",
       "    <tr>\n",
       "      <th>2</th>\n",
       "      <td>0.0</td>\n",
       "      <td>30.0</td>\n",
       "      <td>4.0</td>\n",
       "      <td>6.0</td>\n",
       "      <td>14.0</td>\n",
       "      <td>0.0</td>\n",
       "      <td>3.0</td>\n",
       "      <td>196.921924</td>\n",
       "      <td>1</td>\n",
       "      <td>1.0</td>\n",
       "      <td>Debit Card</td>\n",
       "      <td>Male</td>\n",
       "      <td>2.0</td>\n",
       "      <td>Regular Plus</td>\n",
       "      <td>3.0</td>\n",
       "      <td>Single</td>\n",
       "      <td>1.0</td>\n",
       "      <td>Mobile</td>\n",
       "    </tr>\n",
       "    <tr>\n",
       "      <th>3</th>\n",
       "      <td>0.0</td>\n",
       "      <td>15.0</td>\n",
       "      <td>4.0</td>\n",
       "      <td>8.0</td>\n",
       "      <td>23.0</td>\n",
       "      <td>0.0</td>\n",
       "      <td>3.0</td>\n",
       "      <td>134.070000</td>\n",
       "      <td>1</td>\n",
       "      <td>3.0</td>\n",
       "      <td>Debit Card</td>\n",
       "      <td>Male</td>\n",
       "      <td>2.0</td>\n",
       "      <td>Super</td>\n",
       "      <td>5.0</td>\n",
       "      <td>Single</td>\n",
       "      <td>0.0</td>\n",
       "      <td>Mobile</td>\n",
       "    </tr>\n",
       "    <tr>\n",
       "      <th>4</th>\n",
       "      <td>0.0</td>\n",
       "      <td>12.0</td>\n",
       "      <td>3.0</td>\n",
       "      <td>3.0</td>\n",
       "      <td>11.0</td>\n",
       "      <td>1.0</td>\n",
       "      <td>3.0</td>\n",
       "      <td>129.600000</td>\n",
       "      <td>1</td>\n",
       "      <td>1.0</td>\n",
       "      <td>Credit Card</td>\n",
       "      <td>Male</td>\n",
       "      <td>2.0</td>\n",
       "      <td>Regular Plus</td>\n",
       "      <td>5.0</td>\n",
       "      <td>Single</td>\n",
       "      <td>0.0</td>\n",
       "      <td>Mobile</td>\n",
       "    </tr>\n",
       "  </tbody>\n",
       "</table>\n",
       "</div>"
      ],
      "text/plain": [
       "   Tenure  CC_Contacted_LY  Account_user_count  rev_per_month  rev_growth_yoy  \\\n",
       "0     4.0              6.0                 3.0            9.0            11.0   \n",
       "1     0.0              8.0                 4.0            7.0            15.0   \n",
       "2     0.0             30.0                 4.0            6.0            14.0   \n",
       "3     0.0             15.0                 4.0            8.0            23.0   \n",
       "4     0.0             12.0                 3.0            3.0            11.0   \n",
       "\n",
       "   coupon_used_for_payment  Day_Since_CC_connect    cashback Churn City_Tier  \\\n",
       "0                      1.0                   5.0  159.930000     1       3.0   \n",
       "1                      0.0                   0.0  120.900000     1       1.0   \n",
       "2                      0.0                   3.0  196.921924     1       1.0   \n",
       "3                      0.0                   3.0  134.070000     1       3.0   \n",
       "4                      1.0                   3.0  129.600000     1       1.0   \n",
       "\n",
       "       Payment  Gender Service_Score account_segment CC_Agent_Score  \\\n",
       "0   Debit Card  Female           3.0           Super            2.0   \n",
       "1          UPI    Male           3.0    Regular Plus            3.0   \n",
       "2   Debit Card    Male           2.0    Regular Plus            3.0   \n",
       "3   Debit Card    Male           2.0           Super            5.0   \n",
       "4  Credit Card    Male           2.0    Regular Plus            5.0   \n",
       "\n",
       "  Marital_Status Complain_ly Login_device  \n",
       "0         Single         1.0       Mobile  \n",
       "1         Single         1.0       Mobile  \n",
       "2         Single         1.0       Mobile  \n",
       "3         Single         0.0       Mobile  \n",
       "4         Single         0.0       Mobile  "
      ]
     },
     "execution_count": 23,
     "metadata": {},
     "output_type": "execute_result"
    }
   ],
   "source": [
    "df.head()"
   ]
  },
  {
   "cell_type": "code",
   "execution_count": 24,
   "id": "9a2def71",
   "metadata": {},
   "outputs": [
    {
     "name": "stdout",
     "output_type": "stream",
     "text": [
      "<class 'pandas.core.frame.DataFrame'>\n",
      "Int64Index: 10742 entries, 0 to 11000\n",
      "Data columns (total 18 columns):\n",
      " #   Column                   Non-Null Count  Dtype   \n",
      "---  ------                   --------------  -----   \n",
      " 0   Tenure                   10742 non-null  float64 \n",
      " 1   CC_Contacted_LY          10742 non-null  float64 \n",
      " 2   Account_user_count       10742 non-null  float64 \n",
      " 3   rev_per_month            10742 non-null  float64 \n",
      " 4   rev_growth_yoy           10742 non-null  float64 \n",
      " 5   coupon_used_for_payment  10742 non-null  float64 \n",
      " 6   Day_Since_CC_connect     10742 non-null  float64 \n",
      " 7   cashback                 10742 non-null  float64 \n",
      " 8   Churn                    10742 non-null  category\n",
      " 9   City_Tier                10742 non-null  category\n",
      " 10  Payment                  10742 non-null  category\n",
      " 11  Gender                   10742 non-null  category\n",
      " 12  Service_Score            10742 non-null  category\n",
      " 13  account_segment          10742 non-null  category\n",
      " 14  CC_Agent_Score           10742 non-null  category\n",
      " 15  Marital_Status           10742 non-null  category\n",
      " 16  Complain_ly              10742 non-null  category\n",
      " 17  Login_device             10742 non-null  category\n",
      "dtypes: category(10), float64(8)\n",
      "memory usage: 861.8 KB\n"
     ]
    }
   ],
   "source": [
    "df.info()"
   ]
  },
  {
   "cell_type": "code",
   "execution_count": 25,
   "id": "e006ffe3",
   "metadata": {},
   "outputs": [
    {
     "name": "stdout",
     "output_type": "stream",
     "text": [
      "<class 'pandas.core.frame.DataFrame'>\n",
      "RangeIndex: 11001 entries, 0 to 11000\n",
      "Data columns (total 8 columns):\n",
      " #   Column                   Non-Null Count  Dtype  \n",
      "---  ------                   --------------  -----  \n",
      " 0   Tenure                   11001 non-null  float64\n",
      " 1   CC_Contacted_LY          11001 non-null  float64\n",
      " 2   Account_user_count       11001 non-null  float64\n",
      " 3   rev_per_month            11001 non-null  float64\n",
      " 4   rev_growth_yoy           11001 non-null  float64\n",
      " 5   coupon_used_for_payment  11001 non-null  float64\n",
      " 6   Day_Since_CC_connect     11001 non-null  float64\n",
      " 7   cashback                 11001 non-null  float64\n",
      "dtypes: float64(8)\n",
      "memory usage: 687.7 KB\n"
     ]
    }
   ],
   "source": [
    "df_num.info()"
   ]
  },
  {
   "cell_type": "code",
   "execution_count": 26,
   "id": "0478e39a",
   "metadata": {},
   "outputs": [
    {
     "name": "stdout",
     "output_type": "stream",
     "text": [
      "<class 'pandas.core.frame.DataFrame'>\n",
      "Int64Index: 11001 entries, 0 to 11259\n",
      "Data columns (total 10 columns):\n",
      " #   Column           Non-Null Count  Dtype   \n",
      "---  ------           --------------  -----   \n",
      " 0   Churn            11001 non-null  category\n",
      " 1   City_Tier        11001 non-null  category\n",
      " 2   Payment          11001 non-null  category\n",
      " 3   Gender           11001 non-null  category\n",
      " 4   Service_Score    11001 non-null  category\n",
      " 5   account_segment  11001 non-null  category\n",
      " 6   CC_Agent_Score   11001 non-null  category\n",
      " 7   Marital_Status   11001 non-null  category\n",
      " 8   Complain_ly      11001 non-null  category\n",
      " 9   Login_device     11001 non-null  category\n",
      "dtypes: category(10)\n",
      "memory usage: 453.0 KB\n"
     ]
    }
   ],
   "source": [
    "df_cat.info()"
   ]
  },
  {
   "cell_type": "code",
   "execution_count": 27,
   "id": "79c4703e",
   "metadata": {},
   "outputs": [],
   "source": [
    "df_cat = df.select_dtypes(['category'])"
   ]
  },
  {
   "cell_type": "markdown",
   "id": "0f08ac71",
   "metadata": {},
   "source": [
    "# Outlier Treatment"
   ]
  },
  {
   "cell_type": "code",
   "execution_count": 28,
   "id": "d57df046",
   "metadata": {},
   "outputs": [
    {
     "data": {
      "image/png": "[encoded data removed]",
      "text/plain": [
       "<Figure size 720x720 with 1 Axes>"
      ]
     },
     "metadata": {
      "needs_background": "light"
     },
     "output_type": "display_data"
    }
   ],
   "source": [
    "plt.figure(figsize = (10,10))\n",
    "plt.title('Boxplot of Tenure')\n",
    "sns.boxplot(x='Tenure', data = df);"
   ]
  },
  {
   "cell_type": "code",
   "execution_count": 29,
   "id": "30ffd886",
   "metadata": {},
   "outputs": [
    {
     "data": {
      "image/png": "[encoded data removed]",
      "text/plain": [
       "<Figure size 720x720 with 1 Axes>"
      ]
     },
     "metadata": {
      "needs_background": "light"
     },
     "output_type": "display_data"
    }
   ],
   "source": [
    "plt.figure(figsize = (10,10))\n",
    "plt.title('Boxplot of contacted customer care in last 12months')\n",
    "sns.boxplot(x='CC_Contacted_LY', data = df);"
   ]
  },
  {
   "cell_type": "code",
   "execution_count": 30,
   "id": "ef0f296a",
   "metadata": {},
   "outputs": [
    {
     "data": {
      "image/png": "[encoded data removed]",
      "text/plain": [
       "<Figure size 720x720 with 1 Axes>"
      ]
     },
     "metadata": {
      "needs_background": "light"
     },
     "output_type": "display_data"
    }
   ],
   "source": [
    "plt.figure(figsize = (10,10))\n",
    "plt.title('Boxplot of Account user count')\n",
    "sns.boxplot(x='Account_user_count', data = df);"
   ]
  },
  {
   "cell_type": "code",
   "execution_count": 31,
   "id": "d7ddd46f",
   "metadata": {},
   "outputs": [
    {
     "data": {
      "image/png": "[encoded data removed]",
      "text/plain": [
       "<Figure size 720x720 with 1 Axes>"
      ]
     },
     "metadata": {
      "needs_background": "light"
     },
     "output_type": "display_data"
    }
   ],
   "source": [
    "plt.figure(figsize = (10,10))\n",
    "plt.title('Boxplot of Revenue per month')\n",
    "sns.boxplot(x='rev_per_month', data = df);"
   ]
  },
  {
   "cell_type": "code",
   "execution_count": 32,
   "id": "1d8c1ad2",
   "metadata": {},
   "outputs": [
    {
     "data": {
      "image/png": "[encoded data removed]",
      "text/plain": [
       "<Figure size 720x720 with 1 Axes>"
      ]
     },
     "metadata": {
      "needs_background": "light"
     },
     "output_type": "display_data"
    }
   ],
   "source": [
    "plt.figure(figsize = (10,10))\n",
    "plt.title('Boxplot of Revenue growth yoy')\n",
    "sns.boxplot(x='rev_growth_yoy', data = df);"
   ]
  },
  {
   "cell_type": "code",
   "execution_count": 33,
   "id": "02793cf9",
   "metadata": {},
   "outputs": [
    {
     "data": {
      "image/png": "[encoded data removed]",
      "text/plain": [
       "<Figure size 720x720 with 1 Axes>"
      ]
     },
     "metadata": {
      "needs_background": "light"
     },
     "output_type": "display_data"
    }
   ],
   "source": [
    "plt.figure(figsize = (10,10))\n",
    "plt.title('Boxplot of coupon used for payment')\n",
    "sns.boxplot(x='coupon_used_for_payment', data = df);"
   ]
  },
  {
   "cell_type": "code",
   "execution_count": 34,
   "id": "bf86707a",
   "metadata": {},
   "outputs": [
    {
     "data": {
      "image/png": "[encoded data removed]",
      "text/plain": [
       "<Figure size 720x720 with 1 Axes>"
      ]
     },
     "metadata": {
      "needs_background": "light"
     },
     "output_type": "display_data"
    }
   ],
   "source": [
    "plt.figure(figsize = (10,10))\n",
    "plt.title('Boxplot of Day Since CC connect')\n",
    "sns.boxplot(x='Day_Since_CC_connect', data = df);"
   ]
  },
  {
   "cell_type": "code",
   "execution_count": 35,
   "id": "addbaa8b",
   "metadata": {},
   "outputs": [
    {
     "data": {
      "image/png": "[encoded data removed]",
      "text/plain": [
       "<Figure size 720x720 with 1 Axes>"
      ]
     },
     "metadata": {
      "needs_background": "light"
     },
     "output_type": "display_data"
    }
   ],
   "source": [
    "plt.figure(figsize = (10,10))\n",
    "plt.title('Boxplot of cashback')\n",
    "sns.boxplot(x='cashback', data = df);"
   ]
  },
  {
   "cell_type": "code",
   "execution_count": 36,
   "id": "bf3a3f64",
   "metadata": {},
   "outputs": [],
   "source": [
    "def remove_outlier(col):\n",
    "    sorted(col)\n",
    "    Q1,Q3=np.percentile(col,[25,75])\n",
    "    IQR=Q3-Q1\n",
    "    lower_range= Q1-(1.5 * IQR)\n",
    "    upper_range= Q3+(1.5 * IQR)\n",
    "    return lower_range, upper_range"
   ]
  },
  {
   "cell_type": "code",
   "execution_count": 37,
   "id": "89e9f0e4",
   "metadata": {},
   "outputs": [],
   "source": [
    "for column in df_num.columns:\n",
    "    lr,ur=remove_outlier(df_num[column])\n",
    "    df_num[column]=np.where(df_num[column]>ur,ur,df_num[column])\n",
    "    df_num[column]=np.where(df_num[column]<lr,lr,df_num[column])"
   ]
  },
  {
   "cell_type": "code",
   "execution_count": 38,
   "id": "553820a4",
   "metadata": {},
   "outputs": [],
   "source": [
    "df = pd.concat([df_num, df_cat], axis=1, join='inner')"
   ]
  },
  {
   "cell_type": "code",
   "execution_count": 39,
   "id": "c1262829",
   "metadata": {},
   "outputs": [
    {
     "data": {
      "image/png": "[encoded data removed]",
      "text/plain": [
       "<Figure size 720x720 with 1 Axes>"
      ]
     },
     "metadata": {
      "needs_background": "light"
     },
     "output_type": "display_data"
    }
   ],
   "source": [
    "plt.figure(figsize = (10,10))\n",
    "plt.title('Boxplot of Tenure')\n",
    "sns.boxplot(x='Tenure', data = df);"
   ]
  },
  {
   "cell_type": "code",
   "execution_count": 40,
   "id": "199d6aff",
   "metadata": {},
   "outputs": [
    {
     "data": {
      "image/png": "[encoded data removed]",
      "text/plain": [
       "<Figure size 720x720 with 1 Axes>"
      ]
     },
     "metadata": {
      "needs_background": "light"
     },
     "output_type": "display_data"
    }
   ],
   "source": [
    "plt.figure(figsize = (10,10))\n",
    "plt.title('Boxplot of contacted customer care in last 12months')\n",
    "sns.boxplot(x='CC_Contacted_LY', data = df);"
   ]
  },
  {
   "cell_type": "code",
   "execution_count": 41,
   "id": "6d112341",
   "metadata": {},
   "outputs": [
    {
     "data": {
      "image/png": "[encoded data removed]",
      "text/plain": [
       "<Figure size 720x720 with 1 Axes>"
      ]
     },
     "metadata": {
      "needs_background": "light"
     },
     "output_type": "display_data"
    }
   ],
   "source": [
    "plt.figure(figsize = (10,10))\n",
    "plt.title('Boxplot of Account user count')\n",
    "sns.boxplot(x='Account_user_count', data = df);"
   ]
  },
  {
   "cell_type": "code",
   "execution_count": 42,
   "id": "ab81ee50",
   "metadata": {},
   "outputs": [
    {
     "data": {
      "image/png": "[encoded data removed]",
      "text/plain": [
       "<Figure size 720x720 with 1 Axes>"
      ]
     },
     "metadata": {
      "needs_background": "light"
     },
     "output_type": "display_data"
    }
   ],
   "source": [
    "plt.figure(figsize = (10,10))\n",
    "plt.title('Boxplot of Revenue per month')\n",
    "sns.boxplot(x='rev_per_month', data = df);"
   ]
  },
  {
   "cell_type": "code",
   "execution_count": 43,
   "id": "c543bcc4",
   "metadata": {},
   "outputs": [
    {
     "data": {
      "image/png": "[encoded data removed]",
      "text/plain": [
       "<Figure size 720x720 with 1 Axes>"
      ]
     },
     "metadata": {
      "needs_background": "light"
     },
     "output_type": "display_data"
    }
   ],
   "source": [
    "plt.figure(figsize = (10,10))\n",
    "plt.title('Boxplot of Revenue growth yoy')\n",
    "sns.boxplot(x='rev_growth_yoy', data = df);"
   ]
  },
  {
   "cell_type": "code",
   "execution_count": 44,
   "id": "f09eb269",
   "metadata": {},
   "outputs": [
    {
     "data": {
      "image/png": "[encoded data removed]",
      "text/plain": [
       "<Figure size 720x720 with 1 Axes>"
      ]
     },
     "metadata": {
      "needs_background": "light"
     },
     "output_type": "display_data"
    }
   ],
   "source": [
    "plt.figure(figsize = (10,10))\n",
    "plt.title('Boxplot of coupon used for payment')\n",
    "sns.boxplot(x='coupon_used_for_payment', data = df);"
   ]
  },
  {
   "cell_type": "code",
   "execution_count": 45,
   "id": "57e13f3f",
   "metadata": {},
   "outputs": [
    {
     "data": {
      "image/png": "[encoded data removed]",
      "text/plain": [
       "<Figure size 720x720 with 1 Axes>"
      ]
     },
     "metadata": {
      "needs_background": "light"
     },
     "output_type": "display_data"
    }
   ],
   "source": [
    "plt.figure(figsize = (10,10))\n",
    "plt.title('Boxplot of Day Since CC connect')\n",
    "sns.boxplot(x='Day_Since_CC_connect', data = df);"
   ]
  },
  {
   "cell_type": "code",
   "execution_count": 46,
   "id": "ebc4392c",
   "metadata": {},
   "outputs": [
    {
     "data": {
      "image/png": "[encoded data removed]",
      "text/plain": [
       "<Figure size 720x720 with 1 Axes>"
      ]
     },
     "metadata": {
      "needs_background": "light"
     },
     "output_type": "display_data"
    }
   ],
   "source": [
    "plt.figure(figsize = (10,10))\n",
    "plt.title('Boxplot of cashback')\n",
    "sns.boxplot(x='cashback', data = df);"
   ]
  },
  {
   "cell_type": "code",
   "execution_count": 47,
   "id": "b59d35c2",
   "metadata": {},
   "outputs": [
    {
     "data": {
      "image/png": "[encoded data removed]",
      "text/plain": [
       "<Figure size 720x720 with 1 Axes>"
      ]
     },
     "metadata": {
      "needs_background": "light"
     },
     "output_type": "display_data"
    },
    {
     "data": {
      "image/png": "[encoded data removed]",
      "text/plain": [
       "<Figure size 720x720 with 1 Axes>"
      ]
     },
     "metadata": {
      "needs_background": "light"
     },
     "output_type": "display_data"
    },
    {
     "data": {
      "image/png": "[encoded data removed]",
      "text/plain": [
       "<Figure size 720x720 with 1 Axes>"
      ]
     },
     "metadata": {
      "needs_background": "light"
     },
     "output_type": "display_data"
    },
    {
     "data": {
      "image/png": "[encoded data removed]",
      "text/plain": [
       "<Figure size 720x720 with 1 Axes>"
      ]
     },
     "metadata": {
      "needs_background": "light"
     },
     "output_type": "display_data"
    },
    {
     "data": {
      "image/png": "[encoded data removed]",
      "text/plain": [
       "<Figure size 720x720 with 1 Axes>"
      ]
     },
     "metadata": {
      "needs_background": "light"
     },
     "output_type": "display_data"
    },
    {
     "data": {
      "image/png": "[encoded data removed]",
      "text/plain": [
       "<Figure size 720x720 with 1 Axes>"
      ]
     },
     "metadata": {
      "needs_background": "light"
     },
     "output_type": "display_data"
    },
    {
     "data": {
      "image/png": "[encoded data removed]",
      "text/plain": [
       "<Figure size 720x720 with 1 Axes>"
      ]
     },
     "metadata": {
      "needs_background": "light"
     },
     "output_type": "display_data"
    },
    {
     "data": {
      "image/png": "[encoded data removed]",
      "text/plain": [
       "<Figure size 720x720 with 1 Axes>"
      ]
     },
     "metadata": {
      "needs_background": "light"
     },
     "output_type": "display_data"
    }
   ],
   "source": [
    "for col in df.select_dtypes(include='number'):\n",
    "    plt.figure(figsize = (10,10))\n",
    "    sns.histplot(df[col], kde=True)\n",
    "    plt.title(f'Histogram of {col}')\n",
    "    plt.xlabel(col)\n",
    "    plt.ylabel('Density')\n",
    "    plt.show()"
   ]
  },
  {
   "cell_type": "code",
   "execution_count": 48,
   "id": "fea85c61",
   "metadata": {},
   "outputs": [
    {
     "name": "stderr",
     "output_type": "stream",
     "text": [
      "C:\\Users\\balar\\anaconda3\\lib\\site-packages\\seaborn\\_decorators.py:36: FutureWarning: Pass the following variable as a keyword arg: x. From version 0.12, the only valid positional argument will be `data`, and passing other arguments without an explicit keyword will result in an error or misinterpretation.\n",
      "  warnings.warn(\n"
     ]
    },
    {
     "data": {
      "image/png": "[encoded data removed]",
      "text/plain": [
       "<Figure size 720x720 with 1 Axes>"
      ]
     },
     "metadata": {
      "needs_background": "light"
     },
     "output_type": "display_data"
    },
    {
     "name": "stderr",
     "output_type": "stream",
     "text": [
      "C:\\Users\\balar\\anaconda3\\lib\\site-packages\\seaborn\\_decorators.py:36: FutureWarning: Pass the following variable as a keyword arg: x. From version 0.12, the only valid positional argument will be `data`, and passing other arguments without an explicit keyword will result in an error or misinterpretation.\n",
      "  warnings.warn(\n",
      "C:\\Users\\balar\\anaconda3\\lib\\site-packages\\seaborn\\categorical.py:253: FutureWarning: Index.ravel returning ndarray is deprecated; in a future version this will return a view on self.\n",
      "  grouped_vals = vals.groupby(grouper)\n"
     ]
    },
    {
     "data": {
      "image/png": "[encoded data removed]",
      "text/plain": [
       "<Figure size 720x720 with 1 Axes>"
      ]
     },
     "metadata": {
      "needs_background": "light"
     },
     "output_type": "display_data"
    },
    {
     "name": "stderr",
     "output_type": "stream",
     "text": [
      "C:\\Users\\balar\\anaconda3\\lib\\site-packages\\seaborn\\_decorators.py:36: FutureWarning: Pass the following variable as a keyword arg: x. From version 0.12, the only valid positional argument will be `data`, and passing other arguments without an explicit keyword will result in an error or misinterpretation.\n",
      "  warnings.warn(\n"
     ]
    },
    {
     "data": {
      "image/png": "[encoded data removed]",
      "text/plain": [
       "<Figure size 720x720 with 1 Axes>"
      ]
     },
     "metadata": {
      "needs_background": "light"
     },
     "output_type": "display_data"
    },
    {
     "name": "stderr",
     "output_type": "stream",
     "text": [
      "C:\\Users\\balar\\anaconda3\\lib\\site-packages\\seaborn\\_decorators.py:36: FutureWarning: Pass the following variable as a keyword arg: x. From version 0.12, the only valid positional argument will be `data`, and passing other arguments without an explicit keyword will result in an error or misinterpretation.\n",
      "  warnings.warn(\n"
     ]
    },
    {
     "data": {
      "image/png": "[encoded data removed]",
      "text/plain": [
       "<Figure size 720x720 with 1 Axes>"
      ]
     },
     "metadata": {
      "needs_background": "light"
     },
     "output_type": "display_data"
    },
    {
     "name": "stderr",
     "output_type": "stream",
     "text": [
      "C:\\Users\\balar\\anaconda3\\lib\\site-packages\\seaborn\\_decorators.py:36: FutureWarning: Pass the following variable as a keyword arg: x. From version 0.12, the only valid positional argument will be `data`, and passing other arguments without an explicit keyword will result in an error or misinterpretation.\n",
      "  warnings.warn(\n",
      "C:\\Users\\balar\\anaconda3\\lib\\site-packages\\seaborn\\categorical.py:253: FutureWarning: Index.ravel returning ndarray is deprecated; in a future version this will return a view on self.\n",
      "  grouped_vals = vals.groupby(grouper)\n"
     ]
    },
    {
     "data": {
      "image/png": "[encoded data removed]",
      "text/plain": [
       "<Figure size 720x720 with 1 Axes>"
      ]
     },
     "metadata": {
      "needs_background": "light"
     },
     "output_type": "display_data"
    },
    {
     "name": "stderr",
     "output_type": "stream",
     "text": [
      "C:\\Users\\balar\\anaconda3\\lib\\site-packages\\seaborn\\_decorators.py:36: FutureWarning: Pass the following variable as a keyword arg: x. From version 0.12, the only valid positional argument will be `data`, and passing other arguments without an explicit keyword will result in an error or misinterpretation.\n",
      "  warnings.warn(\n"
     ]
    },
    {
     "data": {
      "image/png": "[encoded data removed]",
      "text/plain": [
       "<Figure size 720x720 with 1 Axes>"
      ]
     },
     "metadata": {
      "needs_background": "light"
     },
     "output_type": "display_data"
    },
    {
     "name": "stderr",
     "output_type": "stream",
     "text": [
      "C:\\Users\\balar\\anaconda3\\lib\\site-packages\\seaborn\\_decorators.py:36: FutureWarning: Pass the following variable as a keyword arg: x. From version 0.12, the only valid positional argument will be `data`, and passing other arguments without an explicit keyword will result in an error or misinterpretation.\n",
      "  warnings.warn(\n",
      "C:\\Users\\balar\\anaconda3\\lib\\site-packages\\seaborn\\categorical.py:253: FutureWarning: Index.ravel returning ndarray is deprecated; in a future version this will return a view on self.\n",
      "  grouped_vals = vals.groupby(grouper)\n"
     ]
    },
    {
     "data": {
      "image/png": "[encoded data removed]",
      "text/plain": [
       "<Figure size 720x720 with 1 Axes>"
      ]
     },
     "metadata": {
      "needs_background": "light"
     },
     "output_type": "display_data"
    },
    {
     "name": "stderr",
     "output_type": "stream",
     "text": [
      "C:\\Users\\balar\\anaconda3\\lib\\site-packages\\seaborn\\_decorators.py:36: FutureWarning: Pass the following variable as a keyword arg: x. From version 0.12, the only valid positional argument will be `data`, and passing other arguments without an explicit keyword will result in an error or misinterpretation.\n",
      "  warnings.warn(\n"
     ]
    },
    {
     "data": {
      "image/png": "[encoded data removed]",
      "text/plain": [
       "<Figure size 720x720 with 1 Axes>"
      ]
     },
     "metadata": {
      "needs_background": "light"
     },
     "output_type": "display_data"
    },
    {
     "name": "stderr",
     "output_type": "stream",
     "text": [
      "C:\\Users\\balar\\anaconda3\\lib\\site-packages\\seaborn\\_decorators.py:36: FutureWarning: Pass the following variable as a keyword arg: x. From version 0.12, the only valid positional argument will be `data`, and passing other arguments without an explicit keyword will result in an error or misinterpretation.\n",
      "  warnings.warn(\n",
      "C:\\Users\\balar\\anaconda3\\lib\\site-packages\\seaborn\\categorical.py:253: FutureWarning: Index.ravel returning ndarray is deprecated; in a future version this will return a view on self.\n",
      "  grouped_vals = vals.groupby(grouper)\n"
     ]
    },
    {
     "data": {
      "image/png": "[encoded data removed]",
      "text/plain": [
       "<Figure size 720x720 with 1 Axes>"
      ]
     },
     "metadata": {
      "needs_background": "light"
     },
     "output_type": "display_data"
    },
    {
     "name": "stderr",
     "output_type": "stream",
     "text": [
      "C:\\Users\\balar\\anaconda3\\lib\\site-packages\\seaborn\\_decorators.py:36: FutureWarning: Pass the following variable as a keyword arg: x. From version 0.12, the only valid positional argument will be `data`, and passing other arguments without an explicit keyword will result in an error or misinterpretation.\n",
      "  warnings.warn(\n"
     ]
    },
    {
     "data": {
      "image/png": "[encoded data removed]",
      "text/plain": [
       "<Figure size 720x720 with 1 Axes>"
      ]
     },
     "metadata": {
      "needs_background": "light"
     },
     "output_type": "display_data"
    }
   ],
   "source": [
    "\n",
    "for col in df.select_dtypes(include='category'):\n",
    "    plt.figure(figsize = (10,10))\n",
    "    sns.countplot(df[col]) \n",
    "    plt.title(f'Count Plot of {col}') \n",
    "    plt.xlabel(col) \n",
    "    plt.ylabel('Count') \n",
    "    plt.show()"
   ]
  },
  {
   "cell_type": "code",
   "execution_count": 49,
   "id": "8c39c818",
   "metadata": {},
   "outputs": [
    {
     "data": {
      "image/png": "[encoded data removed]",
      "text/plain": [
       "<Figure size 1440x1440 with 2 Axes>"
      ]
     },
     "metadata": {
      "needs_background": "light"
     },
     "output_type": "display_data"
    }
   ],
   "source": [
    "plt.figure(figsize=(20,20))\n",
    "sns.heatmap(df.corr(), annot=True,cmap='coolwarm',square=True);"
   ]
  },
  {
   "cell_type": "markdown",
   "id": "5298f689",
   "metadata": {},
   "source": [
    "# Bivariate analysis"
   ]
  },
  {
   "cell_type": "code",
   "execution_count": 50,
   "id": "42b46fd5",
   "metadata": {},
   "outputs": [
    {
     "name": "stderr",
     "output_type": "stream",
     "text": [
      "C:\\Users\\balar\\anaconda3\\lib\\site-packages\\seaborn\\categorical.py:253: FutureWarning: Index.ravel returning ndarray is deprecated; in a future version this will return a view on self.\n",
      "  grouped_vals = vals.groupby(grouper)\n",
      "C:\\Users\\balar\\anaconda3\\lib\\site-packages\\seaborn\\categorical.py:253: FutureWarning: Index.ravel returning ndarray is deprecated; in a future version this will return a view on self.\n",
      "  grouped_vals = vals.groupby(grouper)\n"
     ]
    },
    {
     "data": {
      "image/png": "[encoded data removed]",
      "text/plain": [
       "<Figure size 720x720 with 1 Axes>"
      ]
     },
     "metadata": {
      "needs_background": "light"
     },
     "output_type": "display_data"
    }
   ],
   "source": [
    "plt.figure(figsize = (10,10))\n",
    "sns.countplot(data=df, x='City_Tier', hue='Churn');"
   ]
  },
  {
   "cell_type": "code",
   "execution_count": 51,
   "id": "1b50078c",
   "metadata": {},
   "outputs": [
    {
     "data": {
      "image/png": "[encoded data removed]",
      "text/plain": [
       "<Figure size 720x720 with 1 Axes>"
      ]
     },
     "metadata": {
      "needs_background": "light"
     },
     "output_type": "display_data"
    }
   ],
   "source": [
    "plt.figure(figsize = (10,10))\n",
    "sns.countplot(data=df, x='Gender', hue='Churn');"
   ]
  },
  {
   "cell_type": "code",
   "execution_count": 52,
   "id": "4821e3ed",
   "metadata": {},
   "outputs": [
    {
     "name": "stderr",
     "output_type": "stream",
     "text": [
      "C:\\Users\\balar\\anaconda3\\lib\\site-packages\\seaborn\\categorical.py:253: FutureWarning: Index.ravel returning ndarray is deprecated; in a future version this will return a view on self.\n",
      "  grouped_vals = vals.groupby(grouper)\n",
      "C:\\Users\\balar\\anaconda3\\lib\\site-packages\\seaborn\\categorical.py:253: FutureWarning: Index.ravel returning ndarray is deprecated; in a future version this will return a view on self.\n",
      "  grouped_vals = vals.groupby(grouper)\n"
     ]
    },
    {
     "data": {
      "image/png": "[encoded data removed]",
      "text/plain": [
       "<Figure size 720x720 with 1 Axes>"
      ]
     },
     "metadata": {
      "needs_background": "light"
     },
     "output_type": "display_data"
    }
   ],
   "source": [
    "plt.figure(figsize = (10,10))\n",
    "sns.countplot(data=df, x='Service_Score', hue='Churn');"
   ]
  },
  {
   "cell_type": "code",
   "execution_count": 53,
   "id": "90d84b1b",
   "metadata": {},
   "outputs": [
    {
     "data": {
      "image/png": "[encoded data removed]",
      "text/plain": [
       "<Figure size 720x720 with 1 Axes>"
      ]
     },
     "metadata": {
      "needs_background": "light"
     },
     "output_type": "display_data"
    }
   ],
   "source": [
    "plt.figure(figsize = (10,10))\n",
    "sns.countplot(data=df, x='account_segment', hue='Churn');"
   ]
  },
  {
   "cell_type": "code",
   "execution_count": 54,
   "id": "ad55cbb5",
   "metadata": {},
   "outputs": [
    {
     "data": {
      "text/plain": [
       "account_segment   \n",
       "HNI              0    0.843770\n",
       "                 1    0.156230\n",
       "Regular          0    0.920477\n",
       "                 1    0.079523\n",
       "Regular Plus     0    0.728881\n",
       "                 1    0.271119\n",
       "Super            0    0.895952\n",
       "                 1    0.104048\n",
       "Super Plus       0    0.953224\n",
       "                 1    0.046776\n",
       "Name: Churn, dtype: float64"
      ]
     },
     "execution_count": 54,
     "metadata": {},
     "output_type": "execute_result"
    }
   ],
   "source": [
    "Cluster = df.groupby(['account_segment'])['Churn'].value_counts(normalize=True)\n",
    "Cluster"
   ]
  },
  {
   "cell_type": "code",
   "execution_count": 55,
   "id": "23909ee9",
   "metadata": {},
   "outputs": [
    {
     "name": "stderr",
     "output_type": "stream",
     "text": [
      "C:\\Users\\balar\\anaconda3\\lib\\site-packages\\seaborn\\categorical.py:253: FutureWarning: Index.ravel returning ndarray is deprecated; in a future version this will return a view on self.\n",
      "  grouped_vals = vals.groupby(grouper)\n",
      "C:\\Users\\balar\\anaconda3\\lib\\site-packages\\seaborn\\categorical.py:253: FutureWarning: Index.ravel returning ndarray is deprecated; in a future version this will return a view on self.\n",
      "  grouped_vals = vals.groupby(grouper)\n"
     ]
    },
    {
     "data": {
      "image/png": "[encoded data removed]",
      "text/plain": [
       "<Figure size 720x720 with 1 Axes>"
      ]
     },
     "metadata": {
      "needs_background": "light"
     },
     "output_type": "display_data"
    }
   ],
   "source": [
    "plt.figure(figsize = (10,10))\n",
    "sns.countplot(data=df, x='CC_Agent_Score', hue='Churn');"
   ]
  },
  {
   "cell_type": "code",
   "execution_count": 56,
   "id": "bc2bd1f9",
   "metadata": {},
   "outputs": [
    {
     "data": {
      "text/plain": [
       "Debit Card          0.417892\n",
       "Credit Card         0.313163\n",
       "E wallet            0.108080\n",
       "Cash on Delivery    0.088996\n",
       "UPI                 0.071867\n",
       "Name: Payment, dtype: float64"
      ]
     },
     "execution_count": 56,
     "metadata": {},
     "output_type": "execute_result"
    }
   ],
   "source": [
    "df.Payment.value_counts(normalize=True)"
   ]
  },
  {
   "cell_type": "code",
   "execution_count": 57,
   "id": "968042ad",
   "metadata": {},
   "outputs": [
    {
     "data": {
      "text/plain": [
       "Payment            \n",
       "Cash on Delivery  0    0.746862\n",
       "                  1    0.253138\n",
       "Credit Card       0    0.856421\n",
       "                  1    0.143579\n",
       "Debit Card        0    0.845177\n",
       "                  1    0.154823\n",
       "E wallet          0    0.774332\n",
       "                  1    0.225668\n",
       "UPI               0    0.830311\n",
       "                  1    0.169689\n",
       "Name: Churn, dtype: float64"
      ]
     },
     "execution_count": 57,
     "metadata": {},
     "output_type": "execute_result"
    }
   ],
   "source": [
    "Cluster = df.groupby(['Payment'])['Churn'].value_counts(normalize=True)\n",
    "Cluster"
   ]
  },
  {
   "cell_type": "code",
   "execution_count": 58,
   "id": "0af2dfa3",
   "metadata": {},
   "outputs": [
    {
     "data": {
      "text/plain": [
       "coupon_used_for_payment   \n",
       "0.000000                 0    0.828094\n",
       "                         1    0.171906\n",
       "1.000000                 0    0.830680\n",
       "                         1    0.169320\n",
       "1.801146                 0    1.000000\n",
       "                         1    0.000000\n",
       "2.000000                 0    0.836671\n",
       "                         1    0.163329\n",
       "3.000000                 0    0.822917\n",
       "                         1    0.177083\n",
       "3.500000                 0    0.831091\n",
       "                         1    0.168909\n",
       "Name: Churn, dtype: float64"
      ]
     },
     "execution_count": 58,
     "metadata": {},
     "output_type": "execute_result"
    }
   ],
   "source": [
    "  \n",
    "Cluster = df.groupby(['coupon_used_for_payment'])['Churn'].value_counts(normalize=True)\n",
    "Cluster"
   ]
  },
  {
   "cell_type": "code",
   "execution_count": 59,
   "id": "95307df0",
   "metadata": {},
   "outputs": [
    {
     "data": {
      "text/plain": [
       "Marital_Status   \n",
       "Divorced        0    0.853717\n",
       "                1    0.146283\n",
       "Married         0    0.884548\n",
       "                1    0.115452\n",
       "Single          0    0.728443\n",
       "                1    0.271557\n",
       "Name: Churn, dtype: float64"
      ]
     },
     "execution_count": 59,
     "metadata": {},
     "output_type": "execute_result"
    }
   ],
   "source": [
    "Cluster = df.groupby(['Marital_Status'])['Churn'].value_counts(normalize=True)\n",
    "Cluster"
   ]
  },
  {
   "cell_type": "code",
   "execution_count": 60,
   "id": "c6c3ffd9",
   "metadata": {},
   "outputs": [
    {
     "data": {
      "text/plain": [
       "Marital_Status   \n",
       "Divorced        0    0.853717\n",
       "                1    0.146283\n",
       "Married         0    0.884548\n",
       "                1    0.115452\n",
       "Single          0    0.728443\n",
       "                1    0.271557\n",
       "Name: Churn, dtype: float64"
      ]
     },
     "execution_count": 60,
     "metadata": {},
     "output_type": "execute_result"
    }
   ],
   "source": [
    "Cluster = df.groupby(['Marital_Status'])['Churn'].value_counts(normalize=True)\n",
    "Cluster"
   ]
  },
  {
   "cell_type": "code",
   "execution_count": 61,
   "id": "d60c2c4f",
   "metadata": {},
   "outputs": [
    {
     "data": {
      "text/plain": [
       "Married     0.533793\n",
       "Single      0.310929\n",
       "Divorced    0.155278\n",
       "Name: Marital_Status, dtype: float64"
      ]
     },
     "execution_count": 61,
     "metadata": {},
     "output_type": "execute_result"
    }
   ],
   "source": [
    "df.Marital_Status.value_counts(normalize=True)"
   ]
  },
  {
   "cell_type": "code",
   "execution_count": 62,
   "id": "02e92478",
   "metadata": {},
   "outputs": [
    {
     "data": {
      "text/html": [
       "<div>\n",
       "<style scoped>\n",
       "    .dataframe tbody tr th:only-of-type {\n",
       "        vertical-align: middle;\n",
       "    }\n",
       "\n",
       "    .dataframe tbody tr th {\n",
       "        vertical-align: top;\n",
       "    }\n",
       "\n",
       "    .dataframe thead th {\n",
       "        text-align: right;\n",
       "    }\n",
       "</style>\n",
       "<table border=\"1\" class=\"dataframe\">\n",
       "  <thead>\n",
       "    <tr style=\"text-align: right;\">\n",
       "      <th>Marital_Status</th>\n",
       "      <th>Divorced</th>\n",
       "      <th>Married</th>\n",
       "      <th>Single</th>\n",
       "    </tr>\n",
       "    <tr>\n",
       "      <th>Churn</th>\n",
       "      <th></th>\n",
       "      <th></th>\n",
       "      <th></th>\n",
       "    </tr>\n",
       "  </thead>\n",
       "  <tbody>\n",
       "    <tr>\n",
       "      <th>0</th>\n",
       "      <td>1424</td>\n",
       "      <td>5072</td>\n",
       "      <td>2433</td>\n",
       "    </tr>\n",
       "    <tr>\n",
       "      <th>1</th>\n",
       "      <td>244</td>\n",
       "      <td>662</td>\n",
       "      <td>907</td>\n",
       "    </tr>\n",
       "  </tbody>\n",
       "</table>\n",
       "</div>"
      ],
      "text/plain": [
       "Marital_Status  Divorced  Married  Single\n",
       "Churn                                    \n",
       "0                   1424     5072    2433\n",
       "1                    244      662     907"
      ]
     },
     "execution_count": 62,
     "metadata": {},
     "output_type": "execute_result"
    }
   ],
   "source": [
    "pd.crosstab(df['Churn'],df['Marital_Status'])"
   ]
  },
  {
   "cell_type": "code",
   "execution_count": 63,
   "id": "81cc7959",
   "metadata": {},
   "outputs": [
    {
     "data": {
      "text/plain": [
       "Account_user_count   \n",
       "1.500000            0    0.866511\n",
       "                    1    0.133489\n",
       "2.000000            0    0.847358\n",
       "                    1    0.152642\n",
       "3.000000            0    0.827709\n",
       "                    1    0.172291\n",
       "3.692621            0    0.807425\n",
       "                    1    0.192575\n",
       "4.000000            0    0.830050\n",
       "                    1    0.169950\n",
       "5.000000            0    0.824831\n",
       "                    1    0.175169\n",
       "5.500000            0    0.875839\n",
       "                    1    0.124161\n",
       "Name: Churn, dtype: float64"
      ]
     },
     "execution_count": 63,
     "metadata": {},
     "output_type": "execute_result"
    }
   ],
   "source": [
    "Cluster = df.groupby(['Account_user_count'])['Churn'].value_counts(normalize=True)\n",
    "Cluster"
   ]
  },
  {
   "cell_type": "code",
   "execution_count": 64,
   "id": "6fd6a9c3",
   "metadata": {},
   "outputs": [
    {
     "data": {
      "text/html": [
       "<div>\n",
       "<style scoped>\n",
       "    .dataframe tbody tr th:only-of-type {\n",
       "        vertical-align: middle;\n",
       "    }\n",
       "\n",
       "    .dataframe tbody tr th {\n",
       "        vertical-align: top;\n",
       "    }\n",
       "\n",
       "    .dataframe thead th {\n",
       "        text-align: right;\n",
       "    }\n",
       "</style>\n",
       "<table border=\"1\" class=\"dataframe\">\n",
       "  <thead>\n",
       "    <tr style=\"text-align: right;\">\n",
       "      <th>Account_user_count</th>\n",
       "      <th>1.500000</th>\n",
       "      <th>2.000000</th>\n",
       "      <th>3.000000</th>\n",
       "      <th>3.692621</th>\n",
       "      <th>4.000000</th>\n",
       "      <th>5.000000</th>\n",
       "      <th>5.500000</th>\n",
       "    </tr>\n",
       "    <tr>\n",
       "      <th>Churn</th>\n",
       "      <th></th>\n",
       "      <th></th>\n",
       "      <th></th>\n",
       "      <th></th>\n",
       "      <th></th>\n",
       "      <th></th>\n",
       "      <th></th>\n",
       "    </tr>\n",
       "  </thead>\n",
       "  <tbody>\n",
       "    <tr>\n",
       "      <th>0</th>\n",
       "      <td>370</td>\n",
       "      <td>433</td>\n",
       "      <td>2551</td>\n",
       "      <td>348</td>\n",
       "      <td>3624</td>\n",
       "      <td>1342</td>\n",
       "      <td>261</td>\n",
       "    </tr>\n",
       "    <tr>\n",
       "      <th>1</th>\n",
       "      <td>57</td>\n",
       "      <td>78</td>\n",
       "      <td>531</td>\n",
       "      <td>83</td>\n",
       "      <td>742</td>\n",
       "      <td>285</td>\n",
       "      <td>37</td>\n",
       "    </tr>\n",
       "  </tbody>\n",
       "</table>\n",
       "</div>"
      ],
      "text/plain": [
       "Account_user_count  1.500000  2.000000  3.000000  3.692621  4.000000  \\\n",
       "Churn                                                                  \n",
       "0                        370       433      2551       348      3624   \n",
       "1                         57        78       531        83       742   \n",
       "\n",
       "Account_user_count  5.000000  5.500000  \n",
       "Churn                                   \n",
       "0                       1342       261  \n",
       "1                        285        37  "
      ]
     },
     "execution_count": 64,
     "metadata": {},
     "output_type": "execute_result"
    }
   ],
   "source": [
    "pd.crosstab(df['Churn'],df['Account_user_count'])"
   ]
  },
  {
   "cell_type": "code",
   "execution_count": 65,
   "id": "a5309e6c",
   "metadata": {},
   "outputs": [
    {
     "data": {
      "image/png": "[encoded data removed]",
      "text/plain": [
       "<Figure size 720x720 with 1 Axes>"
      ]
     },
     "metadata": {
      "needs_background": "light"
     },
     "output_type": "display_data"
    }
   ],
   "source": [
    "plt.figure(figsize = (10,10))\n",
    "sns.countplot(data=df, x='Marital_Status', hue='Churn');"
   ]
  },
  {
   "cell_type": "code",
   "execution_count": 66,
   "id": "823f1dda",
   "metadata": {},
   "outputs": [
    {
     "name": "stderr",
     "output_type": "stream",
     "text": [
      "C:\\Users\\balar\\anaconda3\\lib\\site-packages\\seaborn\\categorical.py:253: FutureWarning: Index.ravel returning ndarray is deprecated; in a future version this will return a view on self.\n",
      "  grouped_vals = vals.groupby(grouper)\n",
      "C:\\Users\\balar\\anaconda3\\lib\\site-packages\\seaborn\\categorical.py:253: FutureWarning: Index.ravel returning ndarray is deprecated; in a future version this will return a view on self.\n",
      "  grouped_vals = vals.groupby(grouper)\n"
     ]
    },
    {
     "data": {
      "image/png": "[encoded data removed]",
      "text/plain": [
       "<Figure size 720x720 with 1 Axes>"
      ]
     },
     "metadata": {
      "needs_background": "light"
     },
     "output_type": "display_data"
    }
   ],
   "source": [
    "plt.figure(figsize = (10,10))\n",
    "sns.countplot(data=df, x='Complain_ly', hue='Churn');"
   ]
  },
  {
   "cell_type": "code",
   "execution_count": 67,
   "id": "888ec128",
   "metadata": {},
   "outputs": [
    {
     "data": {
      "text/plain": [
       "Login_device   \n",
       "Computer      0    0.800419\n",
       "              1    0.199581\n",
       "Mobile        0    0.842406\n",
       "              1    0.157594\n",
       "Name: Churn, dtype: float64"
      ]
     },
     "execution_count": 67,
     "metadata": {},
     "output_type": "execute_result"
    }
   ],
   "source": [
    "Cluster = df.groupby(['Login_device'])['Churn'].value_counts(normalize=True)\n",
    "Cluster"
   ]
  },
  {
   "cell_type": "code",
   "execution_count": 68,
   "id": "98f901d5",
   "metadata": {},
   "outputs": [
    {
     "data": {
      "text/html": [
       "<div>\n",
       "<style scoped>\n",
       "    .dataframe tbody tr th:only-of-type {\n",
       "        vertical-align: middle;\n",
       "    }\n",
       "\n",
       "    .dataframe tbody tr th {\n",
       "        vertical-align: top;\n",
       "    }\n",
       "\n",
       "    .dataframe thead th {\n",
       "        text-align: right;\n",
       "    }\n",
       "</style>\n",
       "<table border=\"1\" class=\"dataframe\">\n",
       "  <thead>\n",
       "    <tr style=\"text-align: right;\">\n",
       "      <th>Churn</th>\n",
       "      <th>0</th>\n",
       "      <th>1</th>\n",
       "    </tr>\n",
       "    <tr>\n",
       "      <th>Login_device</th>\n",
       "      <th></th>\n",
       "      <th></th>\n",
       "    </tr>\n",
       "  </thead>\n",
       "  <tbody>\n",
       "    <tr>\n",
       "      <th>Computer</th>\n",
       "      <td>2290</td>\n",
       "      <td>571</td>\n",
       "    </tr>\n",
       "    <tr>\n",
       "      <th>Mobile</th>\n",
       "      <td>6639</td>\n",
       "      <td>1242</td>\n",
       "    </tr>\n",
       "  </tbody>\n",
       "</table>\n",
       "</div>"
      ],
      "text/plain": [
       "Churn            0     1\n",
       "Login_device            \n",
       "Computer      2290   571\n",
       "Mobile        6639  1242"
      ]
     },
     "execution_count": 68,
     "metadata": {},
     "output_type": "execute_result"
    }
   ],
   "source": [
    "pd.crosstab(df['Login_device'],df['Churn'])"
   ]
  },
  {
   "cell_type": "code",
   "execution_count": 69,
   "id": "a0fbaaf2",
   "metadata": {},
   "outputs": [
    {
     "data": {
      "text/plain": [
       "Mobile      0.733662\n",
       "Computer    0.266338\n",
       "Name: Login_device, dtype: float64"
      ]
     },
     "execution_count": 69,
     "metadata": {},
     "output_type": "execute_result"
    }
   ],
   "source": [
    "df.Login_device.value_counts(normalize=True)"
   ]
  },
  {
   "cell_type": "code",
   "execution_count": 70,
   "id": "41ccb956",
   "metadata": {},
   "outputs": [
    {
     "data": {
      "image/png": "[encoded data removed]",
      "text/plain": [
       "<Figure size 720x720 with 1 Axes>"
      ]
     },
     "metadata": {
      "needs_background": "light"
     },
     "output_type": "display_data"
    }
   ],
   "source": [
    "plt.figure(figsize = (10,10))\n",
    "sns.countplot(data=df, x='Login_device', hue='Churn');"
   ]
  },
  {
   "cell_type": "code",
   "execution_count": 71,
   "id": "10b16810",
   "metadata": {},
   "outputs": [
    {
     "data": {
      "image/png": "[encoded data removed]",
      "text/plain": [
       "<Figure size 720x720 with 1 Axes>"
      ]
     },
     "metadata": {
      "needs_background": "light"
     },
     "output_type": "display_data"
    }
   ],
   "source": [
    "plt.figure(figsize=(10,10))\n",
    "sns.boxplot(x=\"Churn\", y=\"CC_Contacted_LY\", data=df);"
   ]
  },
  {
   "cell_type": "code",
   "execution_count": 72,
   "id": "79abd25e",
   "metadata": {},
   "outputs": [
    {
     "data": {
      "image/png": "[encoded data removed]",
      "text/plain": [
       "<Figure size 720x720 with 1 Axes>"
      ]
     },
     "metadata": {
      "needs_background": "light"
     },
     "output_type": "display_data"
    }
   ],
   "source": [
    "plt.figure(figsize=(10,10))\n",
    "sns.boxplot(x=\"Churn\", y=\"Account_user_count\", data=df);"
   ]
  },
  {
   "cell_type": "code",
   "execution_count": 73,
   "id": "64f204ad",
   "metadata": {},
   "outputs": [
    {
     "data": {
      "image/png": "[encoded data removed]",
      "text/plain": [
       "<Figure size 720x720 with 1 Axes>"
      ]
     },
     "metadata": {
      "needs_background": "light"
     },
     "output_type": "display_data"
    }
   ],
   "source": [
    "plt.figure(figsize=(10,10))\n",
    "sns.boxplot(x=\"Churn\", y=\"coupon_used_for_payment\", data=df);"
   ]
  },
  {
   "cell_type": "code",
   "execution_count": 74,
   "id": "d16c64dd",
   "metadata": {},
   "outputs": [
    {
     "data": {
      "image/png": "[encoded data removed]",
      "text/plain": [
       "<Figure size 720x720 with 1 Axes>"
      ]
     },
     "metadata": {
      "needs_background": "light"
     },
     "output_type": "display_data"
    }
   ],
   "source": [
    "plt.figure(figsize=(10,10))\n",
    "sns.boxplot(x=\"Churn\", y=\"Day_Since_CC_connect\", data=df);"
   ]
  },
  {
   "cell_type": "code",
   "execution_count": 75,
   "id": "a8238c33",
   "metadata": {},
   "outputs": [
    {
     "data": {
      "image/png": "[encoded data removed]",
      "text/plain": [
       "<Figure size 720x720 with 1 Axes>"
      ]
     },
     "metadata": {
      "needs_background": "light"
     },
     "output_type": "display_data"
    }
   ],
   "source": [
    "plt.figure(figsize=(10,10))\n",
    "sns.boxplot(x=\"Churn\", y=\"cashback\", data=df);"
   ]
  },
  {
   "cell_type": "raw",
   "id": "60a90c49",
   "metadata": {},
   "source": [
    "sns.pairplot(data=df);"
   ]
  },
  {
   "cell_type": "code",
   "execution_count": 76,
   "id": "6f3e9640",
   "metadata": {},
   "outputs": [
    {
     "data": {
      "text/plain": [
       "Regular Plus    0.373580\n",
       "Super           0.358779\n",
       "HNI             0.147179\n",
       "Super Plus      0.073636\n",
       "Regular         0.046826\n",
       "Name: account_segment, dtype: float64"
      ]
     },
     "execution_count": 76,
     "metadata": {},
     "output_type": "execute_result"
    }
   ],
   "source": [
    "df.account_segment.value_counts(normalize=True)"
   ]
  },
  {
   "cell_type": "code",
   "execution_count": 77,
   "id": "13a5b0ad",
   "metadata": {},
   "outputs": [
    {
     "data": {
      "text/html": [
       "<div>\n",
       "<style scoped>\n",
       "    .dataframe tbody tr th:only-of-type {\n",
       "        vertical-align: middle;\n",
       "    }\n",
       "\n",
       "    .dataframe tbody tr th {\n",
       "        vertical-align: top;\n",
       "    }\n",
       "\n",
       "    .dataframe thead th {\n",
       "        text-align: right;\n",
       "    }\n",
       "</style>\n",
       "<table border=\"1\" class=\"dataframe\">\n",
       "  <thead>\n",
       "    <tr style=\"text-align: right;\">\n",
       "      <th>Churn</th>\n",
       "      <th>0</th>\n",
       "      <th>1</th>\n",
       "    </tr>\n",
       "    <tr>\n",
       "      <th>account_segment</th>\n",
       "      <th></th>\n",
       "      <th></th>\n",
       "    </tr>\n",
       "  </thead>\n",
       "  <tbody>\n",
       "    <tr>\n",
       "      <th>HNI</th>\n",
       "      <td>1334</td>\n",
       "      <td>247</td>\n",
       "    </tr>\n",
       "    <tr>\n",
       "      <th>Regular</th>\n",
       "      <td>463</td>\n",
       "      <td>40</td>\n",
       "    </tr>\n",
       "    <tr>\n",
       "      <th>Regular Plus</th>\n",
       "      <td>2925</td>\n",
       "      <td>1088</td>\n",
       "    </tr>\n",
       "    <tr>\n",
       "      <th>Super</th>\n",
       "      <td>3453</td>\n",
       "      <td>401</td>\n",
       "    </tr>\n",
       "    <tr>\n",
       "      <th>Super Plus</th>\n",
       "      <td>754</td>\n",
       "      <td>37</td>\n",
       "    </tr>\n",
       "  </tbody>\n",
       "</table>\n",
       "</div>"
      ],
      "text/plain": [
       "Churn               0     1\n",
       "account_segment            \n",
       "HNI              1334   247\n",
       "Regular           463    40\n",
       "Regular Plus     2925  1088\n",
       "Super            3453   401\n",
       "Super Plus        754    37"
      ]
     },
     "execution_count": 77,
     "metadata": {},
     "output_type": "execute_result"
    }
   ],
   "source": [
    "Crosstab = pd.crosstab(df['account_segment'], df['Churn'])\n",
    "Crosstab"
   ]
  },
  {
   "cell_type": "code",
   "execution_count": 78,
   "id": "bf858c9f",
   "metadata": {},
   "outputs": [
    {
     "data": {
      "text/plain": [
       "account_segment   \n",
       "HNI              0    0.843770\n",
       "                 1    0.156230\n",
       "Regular          0    0.920477\n",
       "                 1    0.079523\n",
       "Regular Plus     0    0.728881\n",
       "                 1    0.271119\n",
       "Super            0    0.895952\n",
       "                 1    0.104048\n",
       "Super Plus       0    0.953224\n",
       "                 1    0.046776\n",
       "Name: Churn, dtype: float64"
      ]
     },
     "execution_count": 78,
     "metadata": {},
     "output_type": "execute_result"
    }
   ],
   "source": [
    "Cluster = df.groupby(['account_segment'])['Churn'].value_counts(normalize=True)\n",
    "Cluster"
   ]
  },
  {
   "cell_type": "code",
   "execution_count": 79,
   "id": "6ee5ba34",
   "metadata": {},
   "outputs": [
    {
     "data": {
      "text/plain": [
       "Gender   \n",
       "Female  0    0.844345\n",
       "        1    0.155655\n",
       "Male    0    0.822623\n",
       "        1    0.177377\n",
       "Name: Churn, dtype: float64"
      ]
     },
     "execution_count": 79,
     "metadata": {},
     "output_type": "execute_result"
    }
   ],
   "source": [
    "Cluster = df.groupby(['Gender'])['Churn'].value_counts(normalize=True)\n",
    "Cluster"
   ]
  },
  {
   "cell_type": "code",
   "execution_count": 80,
   "id": "1c6378a1",
   "metadata": {},
   "outputs": [
    {
     "data": {
      "text/html": [
       "<div>\n",
       "<style scoped>\n",
       "    .dataframe tbody tr th:only-of-type {\n",
       "        vertical-align: middle;\n",
       "    }\n",
       "\n",
       "    .dataframe tbody tr th {\n",
       "        vertical-align: top;\n",
       "    }\n",
       "\n",
       "    .dataframe thead th {\n",
       "        text-align: right;\n",
       "    }\n",
       "</style>\n",
       "<table border=\"1\" class=\"dataframe\">\n",
       "  <thead>\n",
       "    <tr style=\"text-align: right;\">\n",
       "      <th>Churn</th>\n",
       "      <th>0</th>\n",
       "      <th>1</th>\n",
       "    </tr>\n",
       "    <tr>\n",
       "      <th>Gender</th>\n",
       "      <th></th>\n",
       "      <th></th>\n",
       "    </tr>\n",
       "  </thead>\n",
       "  <tbody>\n",
       "    <tr>\n",
       "      <th>Female</th>\n",
       "      <td>3591</td>\n",
       "      <td>662</td>\n",
       "    </tr>\n",
       "    <tr>\n",
       "      <th>Male</th>\n",
       "      <td>5338</td>\n",
       "      <td>1151</td>\n",
       "    </tr>\n",
       "  </tbody>\n",
       "</table>\n",
       "</div>"
      ],
      "text/plain": [
       "Churn      0     1\n",
       "Gender            \n",
       "Female  3591   662\n",
       "Male    5338  1151"
      ]
     },
     "execution_count": 80,
     "metadata": {},
     "output_type": "execute_result"
    }
   ],
   "source": [
    "Crosstab = pd.crosstab(df['Gender'], df['Churn'])\n",
    "Crosstab"
   ]
  },
  {
   "cell_type": "code",
   "execution_count": 81,
   "id": "eda48780",
   "metadata": {},
   "outputs": [
    {
     "name": "stdout",
     "output_type": "stream",
     "text": [
      "<class 'pandas.core.frame.DataFrame'>\n",
      "Int64Index: 10742 entries, 0 to 11000\n",
      "Data columns (total 18 columns):\n",
      " #   Column                   Non-Null Count  Dtype   \n",
      "---  ------                   --------------  -----   \n",
      " 0   Tenure                   10742 non-null  float64 \n",
      " 1   CC_Contacted_LY          10742 non-null  float64 \n",
      " 2   Account_user_count       10742 non-null  float64 \n",
      " 3   rev_per_month            10742 non-null  float64 \n",
      " 4   rev_growth_yoy           10742 non-null  float64 \n",
      " 5   coupon_used_for_payment  10742 non-null  float64 \n",
      " 6   Day_Since_CC_connect     10742 non-null  float64 \n",
      " 7   cashback                 10742 non-null  float64 \n",
      " 8   Churn                    10742 non-null  category\n",
      " 9   City_Tier                10742 non-null  category\n",
      " 10  Payment                  10742 non-null  category\n",
      " 11  Gender                   10742 non-null  category\n",
      " 12  Service_Score            10742 non-null  category\n",
      " 13  account_segment          10742 non-null  category\n",
      " 14  CC_Agent_Score           10742 non-null  category\n",
      " 15  Marital_Status           10742 non-null  category\n",
      " 16  Complain_ly              10742 non-null  category\n",
      " 17  Login_device             10742 non-null  category\n",
      "dtypes: category(10), float64(8)\n",
      "memory usage: 861.8 KB\n"
     ]
    }
   ],
   "source": [
    "df.info()"
   ]
  },
  {
   "cell_type": "code",
   "execution_count": 82,
   "id": "1414f235",
   "metadata": {},
   "outputs": [
    {
     "data": {
      "text/plain": [
       "Gender   \n",
       "Female  0    0.844345\n",
       "        1    0.155655\n",
       "Male    0    0.822623\n",
       "        1    0.177377\n",
       "Name: Churn, dtype: float64"
      ]
     },
     "execution_count": 82,
     "metadata": {},
     "output_type": "execute_result"
    }
   ],
   "source": [
    "Cluster = df.groupby(['Gender'])['Churn'].value_counts(normalize=True)\n",
    "Cluster"
   ]
  },
  {
   "cell_type": "code",
   "execution_count": 83,
   "id": "12af4062",
   "metadata": {},
   "outputs": [
    {
     "data": {
      "text/plain": [
       "Married     0.533793\n",
       "Single      0.310929\n",
       "Divorced    0.155278\n",
       "Name: Marital_Status, dtype: float64"
      ]
     },
     "execution_count": 83,
     "metadata": {},
     "output_type": "execute_result"
    }
   ],
   "source": [
    "df.Marital_Status.value_counts(normalize=True)"
   ]
  },
  {
   "cell_type": "code",
   "execution_count": 84,
   "id": "d5082651",
   "metadata": {},
   "outputs": [
    {
     "data": {
      "text/html": [
       "<div>\n",
       "<style scoped>\n",
       "    .dataframe tbody tr th:only-of-type {\n",
       "        vertical-align: middle;\n",
       "    }\n",
       "\n",
       "    .dataframe tbody tr th {\n",
       "        vertical-align: top;\n",
       "    }\n",
       "\n",
       "    .dataframe thead th {\n",
       "        text-align: right;\n",
       "    }\n",
       "</style>\n",
       "<table border=\"1\" class=\"dataframe\">\n",
       "  <thead>\n",
       "    <tr style=\"text-align: right;\">\n",
       "      <th>Churn</th>\n",
       "      <th>0</th>\n",
       "      <th>1</th>\n",
       "    </tr>\n",
       "    <tr>\n",
       "      <th>Gender</th>\n",
       "      <th></th>\n",
       "      <th></th>\n",
       "    </tr>\n",
       "  </thead>\n",
       "  <tbody>\n",
       "    <tr>\n",
       "      <th>Female</th>\n",
       "      <td>3591</td>\n",
       "      <td>662</td>\n",
       "    </tr>\n",
       "    <tr>\n",
       "      <th>Male</th>\n",
       "      <td>5338</td>\n",
       "      <td>1151</td>\n",
       "    </tr>\n",
       "  </tbody>\n",
       "</table>\n",
       "</div>"
      ],
      "text/plain": [
       "Churn      0     1\n",
       "Gender            \n",
       "Female  3591   662\n",
       "Male    5338  1151"
      ]
     },
     "execution_count": 84,
     "metadata": {},
     "output_type": "execute_result"
    }
   ],
   "source": [
    "Crosstab = pd.crosstab(df['Gender'], df['Churn'])\n",
    "Crosstab"
   ]
  }
 ],
 "metadata": {
  "kernelspec": {
   "display_name": "Python 3 (ipykernel)",
   "language": "python",
   "name": "python3"
  },
  "language_info": {
   "codemirror_mode": {
    "name": "ipython",
    "version": 3
   },
   "file_extension": ".py",
   "mimetype": "text/x-python",
   "name": "python",
   "nbconvert_exporter": "python",
   "pygments_lexer": "ipython3",
   "version": "3.9.12"
  }
 },
 "nbformat": 4,
 "nbformat_minor": 5
}
